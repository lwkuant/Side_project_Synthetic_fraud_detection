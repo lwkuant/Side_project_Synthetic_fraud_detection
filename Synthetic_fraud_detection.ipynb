{
 "cells": [
  {
   "cell_type": "markdown",
   "metadata": {},
   "source": [
    "## Setup"
   ]
  },
  {
   "cell_type": "code",
   "execution_count": 1,
   "metadata": {
    "collapsed": false
   },
   "outputs": [
    {
     "data": {
      "text/html": [
       "<script>requirejs.config({paths: { 'plotly': ['https://cdn.plot.ly/plotly-latest.min']},});if(!window.Plotly) {{require(['plotly'],function(plotly) {window.Plotly=plotly;});}}</script>"
      ],
      "text/plain": [
       "<IPython.core.display.HTML object>"
      ]
     },
     "metadata": {},
     "output_type": "display_data"
    }
   ],
   "source": [
    "### Load required packages \n",
    "import numpy as np \n",
    "import pandas as pd \n",
    "import scipy as sp\n",
    "import matplotlib.pyplot as plt \n",
    "%matplotlib inline \n",
    "import seaborn as sns\n",
    "\n",
    "import plotly as py\n",
    "import plotly.graph_objs as go\n",
    "py.offline.init_notebook_mode(connected=True) \n",
    "\n",
    "import warnings\n",
    "warnings.filterwarnings('ignore')\n",
    "\n",
    "seed = 100\n",
    "np.random.seed(seed)"
   ]
  },
  {
   "cell_type": "markdown",
   "metadata": {},
   "source": [
    "## Wrapper function"
   ]
  },
  {
   "cell_type": "code",
   "execution_count": 2,
   "metadata": {
    "collapsed": false
   },
   "outputs": [],
   "source": [
    "df = 0\n",
    "\n",
    "### Plot the relationship between categorical variable and target variable\n",
    "def plot_cat_tar_relationship(df, x, y):\n",
    "    pd.crosstab(df[x], df[y]).apply(lambda x: x/np.sum(x), axis=1).plot(kind='bar', stacked=True, rot=0, edgecolor='none',\n",
    "                                                                        color= ['#AAAAAA', '#FF0000'], figsize=[6, 6])\n",
    "    plt.legend(loc='center left', bbox_to_anchor=(1.0, 0.5))\n",
    "    plt.ylabel('Percentage')\n",
    "    plt.title('The Distribution of '+x+' by '+y, y=1.02)\n",
    "    \n",
    "### Quantify the relationship between categorical variables\n",
    "def cat_relationship(features=[], df = df):\n",
    "    from scipy.stats import chi2_contingency\n",
    "    tb = np.zeros([len(features), len(features)])\n",
    "    \n",
    "    for i in range(len(features)):\n",
    "        for j in range(len(features)):\n",
    "            if i == j:\n",
    "                tb[i, j] = 0\n",
    "            else:\n",
    "                tb[i, j] = 1 - chi2_contingency(pd.crosstab(df_ex[features[i]], df_ex[features[j]]))[1]\n",
    "                \n",
    "    return tb\n",
    "\n",
    "### Quantify the relationship between numerical variables\n",
    "def num_relationship(features = [], df = df):\n",
    "    from scipy.stats import spearmanr\n",
    "    \n",
    "    tb = np.zeros([len(features), len(features)])\n",
    "    \n",
    "    for i in range(len(features)):\n",
    "        for j in range(len(features)):\n",
    "            if i == j:\n",
    "                tb[i, j] = 1\n",
    "            else:\n",
    "                tb[i, j] = spearmanr(df[features[i]].values, df[features[j]].values)[0]\n",
    "    \n",
    "    return tb\n",
    "\n",
    "### Quantify the relationship between numerical variables and categorical variables\n",
    "def cal_anova(num_feature = '', cat_feature = '', df = df):\n",
    "    from scipy.stats import f_oneway\n",
    "    vals = []\n",
    "    for cat in np.unique(df[cat_feature]):\n",
    "        vals.append(df[num_feature][df[cat_feature] == cat])\n",
    "    \n",
    "    return np.round(1 - f_oneway(*vals)[1], 2)\n",
    "\n",
    "def num_cat_relationship(num_features = [], cat_features = [], df = df):\n",
    "    tb = np.zeros([len(num_features), len(cat_features)])\n",
    "    \n",
    "    for i in range(len(num_features)):\n",
    "        for j in range(len(cat_features)):\n",
    "            tb[i, j] = cal_anova(num_features[i], cat_features[j], df)\n",
    "        \n",
    "    return tb"
   ]
  },
  {
   "cell_type": "code",
   "execution_count": 3,
   "metadata": {
    "collapsed": true
   },
   "outputs": [],
   "source": [
    "### load the dataset\n",
    "df = pd.read_csv('D:/Dataset/Side_project_Synthetic_fraud_detection/PS_20174392719_1491204439457_log.csv')"
   ]
  },
  {
   "cell_type": "code",
   "execution_count": 5,
   "metadata": {
    "collapsed": false
   },
   "outputs": [
    {
     "data": {
      "text/plain": [
       "(6362620, 11)"
      ]
     },
     "execution_count": 5,
     "metadata": {},
     "output_type": "execute_result"
    }
   ],
   "source": [
    "### Shape of the dataset\n",
    "df.shape"
   ]
  },
  {
   "cell_type": "code",
   "execution_count": 6,
   "metadata": {
    "collapsed": false
   },
   "outputs": [
    {
     "name": "stdout",
     "output_type": "stream",
     "text": [
      "<class 'pandas.core.frame.DataFrame'>\n",
      "RangeIndex: 6362620 entries, 0 to 6362619\n",
      "Data columns (total 11 columns):\n",
      "step              int64\n",
      "type              object\n",
      "amount            float64\n",
      "nameOrig          object\n",
      "oldbalanceOrg     float64\n",
      "newbalanceOrig    float64\n",
      "nameDest          object\n",
      "oldbalanceDest    float64\n",
      "newbalanceDest    float64\n",
      "isFraud           int64\n",
      "isFlaggedFraud    int64\n",
      "dtypes: float64(5), int64(3), object(3)\n",
      "memory usage: 534.0+ MB\n"
     ]
    }
   ],
   "source": [
    "### Summary of the dataset\n",
    "df.info()"
   ]
  },
  {
   "cell_type": "code",
   "execution_count": 7,
   "metadata": {
    "collapsed": false
   },
   "outputs": [
    {
     "data": {
      "text/html": [
       "<div>\n",
       "<table border=\"1\" class=\"dataframe\">\n",
       "  <thead>\n",
       "    <tr style=\"text-align: right;\">\n",
       "      <th></th>\n",
       "      <th>step</th>\n",
       "      <th>type</th>\n",
       "      <th>amount</th>\n",
       "      <th>nameOrig</th>\n",
       "      <th>oldbalanceOrg</th>\n",
       "      <th>newbalanceOrig</th>\n",
       "      <th>nameDest</th>\n",
       "      <th>oldbalanceDest</th>\n",
       "      <th>newbalanceDest</th>\n",
       "      <th>isFraud</th>\n",
       "      <th>isFlaggedFraud</th>\n",
       "    </tr>\n",
       "  </thead>\n",
       "  <tbody>\n",
       "    <tr>\n",
       "      <th>0</th>\n",
       "      <td>1</td>\n",
       "      <td>PAYMENT</td>\n",
       "      <td>9839.64</td>\n",
       "      <td>C1231006815</td>\n",
       "      <td>170136.0</td>\n",
       "      <td>160296.36</td>\n",
       "      <td>M1979787155</td>\n",
       "      <td>0.0</td>\n",
       "      <td>0.0</td>\n",
       "      <td>0</td>\n",
       "      <td>0</td>\n",
       "    </tr>\n",
       "    <tr>\n",
       "      <th>1</th>\n",
       "      <td>1</td>\n",
       "      <td>PAYMENT</td>\n",
       "      <td>1864.28</td>\n",
       "      <td>C1666544295</td>\n",
       "      <td>21249.0</td>\n",
       "      <td>19384.72</td>\n",
       "      <td>M2044282225</td>\n",
       "      <td>0.0</td>\n",
       "      <td>0.0</td>\n",
       "      <td>0</td>\n",
       "      <td>0</td>\n",
       "    </tr>\n",
       "    <tr>\n",
       "      <th>2</th>\n",
       "      <td>1</td>\n",
       "      <td>TRANSFER</td>\n",
       "      <td>181.00</td>\n",
       "      <td>C1305486145</td>\n",
       "      <td>181.0</td>\n",
       "      <td>0.00</td>\n",
       "      <td>C553264065</td>\n",
       "      <td>0.0</td>\n",
       "      <td>0.0</td>\n",
       "      <td>1</td>\n",
       "      <td>0</td>\n",
       "    </tr>\n",
       "    <tr>\n",
       "      <th>3</th>\n",
       "      <td>1</td>\n",
       "      <td>CASH_OUT</td>\n",
       "      <td>181.00</td>\n",
       "      <td>C840083671</td>\n",
       "      <td>181.0</td>\n",
       "      <td>0.00</td>\n",
       "      <td>C38997010</td>\n",
       "      <td>21182.0</td>\n",
       "      <td>0.0</td>\n",
       "      <td>1</td>\n",
       "      <td>0</td>\n",
       "    </tr>\n",
       "    <tr>\n",
       "      <th>4</th>\n",
       "      <td>1</td>\n",
       "      <td>PAYMENT</td>\n",
       "      <td>11668.14</td>\n",
       "      <td>C2048537720</td>\n",
       "      <td>41554.0</td>\n",
       "      <td>29885.86</td>\n",
       "      <td>M1230701703</td>\n",
       "      <td>0.0</td>\n",
       "      <td>0.0</td>\n",
       "      <td>0</td>\n",
       "      <td>0</td>\n",
       "    </tr>\n",
       "  </tbody>\n",
       "</table>\n",
       "</div>"
      ],
      "text/plain": [
       "   step      type    amount     nameOrig  oldbalanceOrg  newbalanceOrig  \\\n",
       "0     1   PAYMENT   9839.64  C1231006815       170136.0       160296.36   \n",
       "1     1   PAYMENT   1864.28  C1666544295        21249.0        19384.72   \n",
       "2     1  TRANSFER    181.00  C1305486145          181.0            0.00   \n",
       "3     1  CASH_OUT    181.00   C840083671          181.0            0.00   \n",
       "4     1   PAYMENT  11668.14  C2048537720        41554.0        29885.86   \n",
       "\n",
       "      nameDest  oldbalanceDest  newbalanceDest  isFraud  isFlaggedFraud  \n",
       "0  M1979787155             0.0             0.0        0               0  \n",
       "1  M2044282225             0.0             0.0        0               0  \n",
       "2   C553264065             0.0             0.0        1               0  \n",
       "3    C38997010         21182.0             0.0        1               0  \n",
       "4  M1230701703             0.0             0.0        0               0  "
      ]
     },
     "execution_count": 7,
     "metadata": {},
     "output_type": "execute_result"
    }
   ],
   "source": [
    "df.head()"
   ]
  },
  {
   "cell_type": "code",
   "execution_count": 8,
   "metadata": {
    "collapsed": false
   },
   "outputs": [
    {
     "data": {
      "text/plain": [
       "step              0\n",
       "type              0\n",
       "amount            0\n",
       "nameOrig          0\n",
       "oldbalanceOrg     0\n",
       "newbalanceOrig    0\n",
       "nameDest          0\n",
       "oldbalanceDest    0\n",
       "newbalanceDest    0\n",
       "isFraud           0\n",
       "isFlaggedFraud    0\n",
       "dtype: int64"
      ]
     },
     "execution_count": 8,
     "metadata": {},
     "output_type": "execute_result"
    }
   ],
   "source": [
    "### Any NAs?\n",
    "np.sum(df.isnull())"
   ]
  },
  {
   "cell_type": "markdown",
   "metadata": {},
   "source": [
    "No NAs"
   ]
  },
  {
   "cell_type": "code",
   "execution_count": 9,
   "metadata": {
    "collapsed": false
   },
   "outputs": [
    {
     "data": {
      "text/plain": [
       "0    6354407\n",
       "1       8213\n",
       "Name: isFraud, dtype: int64"
      ]
     },
     "execution_count": 9,
     "metadata": {},
     "output_type": "execute_result"
    }
   ],
   "source": [
    "### Count for target variable\n",
    "df['isFraud'].value_counts()"
   ]
  },
  {
   "cell_type": "code",
   "execution_count": 10,
   "metadata": {
    "collapsed": false
   },
   "outputs": [
    {
     "data": {
      "text/plain": [
       "0    0.998709\n",
       "1    0.001291\n",
       "Name: isFraud, dtype: float64"
      ]
     },
     "execution_count": 10,
     "metadata": {},
     "output_type": "execute_result"
    }
   ],
   "source": [
    "### Ratio of each class\n",
    "df['isFraud'].value_counts()/len(df)"
   ]
  },
  {
   "cell_type": "markdown",
   "metadata": {},
   "source": [
    "The distribution of the target variable is very imbalanced."
   ]
  },
  {
   "cell_type": "code",
   "execution_count": 11,
   "metadata": {
    "collapsed": false
   },
   "outputs": [
    {
     "data": {
      "text/plain": [
       "0    0.999997\n",
       "1    0.000003\n",
       "Name: isFlaggedFraud, dtype: float64"
      ]
     },
     "execution_count": 11,
     "metadata": {},
     "output_type": "execute_result"
    }
   ],
   "source": [
    "### The distribution of the baseline model\n",
    "df['isFlaggedFraud'].value_counts()/len(df)"
   ]
  },
  {
   "cell_type": "code",
   "execution_count": 12,
   "metadata": {
    "collapsed": false
   },
   "outputs": [
    {
     "data": {
      "text/html": [
       "<div>\n",
       "<table border=\"1\" class=\"dataframe\">\n",
       "  <thead>\n",
       "    <tr style=\"text-align: right;\">\n",
       "      <th>isFlaggedFraud</th>\n",
       "      <th>0</th>\n",
       "      <th>1</th>\n",
       "    </tr>\n",
       "    <tr>\n",
       "      <th>isFraud</th>\n",
       "      <th></th>\n",
       "      <th></th>\n",
       "    </tr>\n",
       "  </thead>\n",
       "  <tbody>\n",
       "    <tr>\n",
       "      <th>0</th>\n",
       "      <td>6354407</td>\n",
       "      <td>0</td>\n",
       "    </tr>\n",
       "    <tr>\n",
       "      <th>1</th>\n",
       "      <td>8197</td>\n",
       "      <td>16</td>\n",
       "    </tr>\n",
       "  </tbody>\n",
       "</table>\n",
       "</div>"
      ],
      "text/plain": [
       "isFlaggedFraud        0   1\n",
       "isFraud                    \n",
       "0               6354407   0\n",
       "1                  8197  16"
      ]
     },
     "execution_count": 12,
     "metadata": {},
     "output_type": "execute_result"
    }
   ],
   "source": [
    "pd.crosstab(df['isFraud'], df['isFlaggedFraud'])"
   ]
  },
  {
   "cell_type": "code",
   "execution_count": 13,
   "metadata": {
    "collapsed": false
   },
   "outputs": [
    {
     "name": "stdout",
     "output_type": "stream",
     "text": [
      "Precision: 0: 0.998711690999, 1: 1.0\n",
      "\n",
      "Recall: 0: 1.0, 1: 0.00194813101181\n",
      "\n",
      "F1 score: 0: 0.999355430297, 1: 0.00388868635314\n",
      "\n",
      "Number of ground truth: 0: 6354407, 1: 8213\n",
      "\n"
     ]
    }
   ],
   "source": [
    "from sklearn.metrics import precision_recall_fscore_support\n",
    "metrics = ['Precision', 'Recall', 'F1 score', 'Number of ground truth']\n",
    "\n",
    "prfs = precision_recall_fscore_support(df['isFraud'], df['isFlaggedFraud'])\n",
    "\n",
    "for ind, metric in enumerate(metrics):\n",
    "    print(metric+': '+'0: '+str(prfs[ind][0])+', 1: '+str(prfs[ind][1])+'\\n')"
   ]
  },
  {
   "cell_type": "markdown",
   "metadata": {},
   "source": [
    "The benchmark doesn't perform well on the Recall and F1 score."
   ]
  },
  {
   "cell_type": "markdown",
   "metadata": {},
   "source": [
    "#### For efficiency, I would like to use only 10% of the original dataset for exploratory data analysis firtst"
   ]
  },
  {
   "cell_type": "code",
   "execution_count": 14,
   "metadata": {
    "collapsed": true
   },
   "outputs": [],
   "source": [
    "from sklearn.model_selection import train_test_split\n",
    "\n",
    "df_ex, _ = train_test_split(df, train_size=0.1, stratify=df['isFraud'], random_state=seed)"
   ]
  },
  {
   "cell_type": "code",
   "execution_count": 15,
   "metadata": {
    "collapsed": true
   },
   "outputs": [],
   "source": [
    "df_ex.index = range(len(df_ex))"
   ]
  },
  {
   "cell_type": "code",
   "execution_count": 16,
   "metadata": {
    "collapsed": false
   },
   "outputs": [
    {
     "data": {
      "text/plain": [
       "0    635441\n",
       "1       821\n",
       "Name: isFraud, dtype: int64"
      ]
     },
     "execution_count": 16,
     "metadata": {},
     "output_type": "execute_result"
    }
   ],
   "source": [
    "df_ex['isFraud'].value_counts()"
   ]
  },
  {
   "cell_type": "code",
   "execution_count": 17,
   "metadata": {
    "collapsed": false
   },
   "outputs": [
    {
     "data": {
      "text/plain": [
       "0    0.99871\n",
       "1    0.00129\n",
       "Name: isFraud, dtype: float64"
      ]
     },
     "execution_count": 17,
     "metadata": {},
     "output_type": "execute_result"
    }
   ],
   "source": [
    "df_ex['isFraud'].value_counts()/len(df_ex)"
   ]
  },
  {
   "cell_type": "markdown",
   "metadata": {},
   "source": [
    "## EDA and feature engineering"
   ]
  },
  {
   "cell_type": "code",
   "execution_count": 18,
   "metadata": {
    "collapsed": false
   },
   "outputs": [
    {
     "data": {
      "text/plain": [
       "CASH_OUT    223306\n",
       "PAYMENT     215332\n",
       "CASH_IN     140132\n",
       "TRANSFER     53325\n",
       "DEBIT         4167\n",
       "Name: type, dtype: int64"
      ]
     },
     "execution_count": 18,
     "metadata": {},
     "output_type": "execute_result"
    }
   ],
   "source": [
    "### Transaction type\n",
    "df_ex['type'].value_counts()"
   ]
  },
  {
   "cell_type": "code",
   "execution_count": 19,
   "metadata": {
    "collapsed": false
   },
   "outputs": [
    {
     "data": {
      "image/png": "[encoded data removed]",
      "text/plain": [
       "<matplotlib.figure.Figure at 0x2278b9872e8>"
      ]
     },
     "metadata": {},
     "output_type": "display_data"
    }
   ],
   "source": [
    "plot_cat_tar_relationship(df_ex, 'type', 'isFraud')"
   ]
  },
  {
   "cell_type": "markdown",
   "metadata": {},
   "source": [
    "It seems that only transactions of CASH_OUT and TRANSFER are related to fraud."
   ]
  },
  {
   "cell_type": "code",
   "execution_count": 20,
   "metadata": {
    "collapsed": false
   },
   "outputs": [
    {
     "data": {
      "text/plain": [
       "<matplotlib.text.Text at 0x2278c35e390>"
      ]
     },
     "execution_count": 20,
     "metadata": {},
     "output_type": "execute_result"
    },
    {
     "data": {
      "text/plain": [
       "<matplotlib.figure.Figure at 0x2278bdf91d0>"
      ]
     },
     "metadata": {},
     "output_type": "display_data"
    },
    {
     "data": {
      "image/png": "[encoded data removed]",
      "text/plain": [
       "<matplotlib.figure.Figure at 0x2278bdef828>"
      ]
     },
     "metadata": {},
     "output_type": "display_data"
    }
   ],
   "source": [
    "### Transaction amount\n",
    "plt.figure(figsize=[6, 6])\n",
    "sns.FacetGrid(df_ex, hue='isFraud', size=6).map(sns.kdeplot, 'amount').add_legend()\n",
    "plt.title('The Distribution of amount by isFraud')"
   ]
  },
  {
   "cell_type": "code",
   "execution_count": 21,
   "metadata": {
    "collapsed": false
   },
   "outputs": [
    {
     "data": {
      "text/plain": [
       "<matplotlib.axes._subplots.AxesSubplot at 0x2278c0a0ef0>"
      ]
     },
     "execution_count": 21,
     "metadata": {},
     "output_type": "execute_result"
    },
    {
     "data": {
      "image/png": "[encoded data removed]",
      "text/plain": [
       "<matplotlib.figure.Figure at 0x2278c0a4518>"
      ]
     },
     "metadata": {},
     "output_type": "display_data"
    }
   ],
   "source": [
    "plt.figure(figsize=[6, 6])\n",
    "sns.violinplot(x='isFraud', y='amount', data=df_ex, size=6)"
   ]
  },
  {
   "cell_type": "markdown",
   "metadata": {},
   "source": [
    "#### Try log transformation to change the very skewed distribution of the data"
   ]
  },
  {
   "cell_type": "code",
   "execution_count": 22,
   "metadata": {
    "collapsed": false
   },
   "outputs": [],
   "source": [
    "df_ex['log_amount'] = df_ex['amount'].apply(lambda x: np.log1p(x))"
   ]
  },
  {
   "cell_type": "code",
   "execution_count": 23,
   "metadata": {
    "collapsed": false
   },
   "outputs": [
    {
     "data": {
      "text/plain": [
       "<matplotlib.text.Text at 0x2278d0cdcc0>"
      ]
     },
     "execution_count": 23,
     "metadata": {},
     "output_type": "execute_result"
    },
    {
     "data": {
      "text/plain": [
       "<matplotlib.figure.Figure at 0x2278c093ef0>"
      ]
     },
     "metadata": {},
     "output_type": "display_data"
    },
    {
     "data": {
      "image/png": "[encoded data removed]",
      "text/plain": [
       "<matplotlib.figure.Figure at 0x2278d0abda0>"
      ]
     },
     "metadata": {},
     "output_type": "display_data"
    }
   ],
   "source": [
    "plt.figure(figsize=[6, 6])\n",
    "sns.FacetGrid(df_ex, hue='isFraud', size=6).map(sns.kdeplot, 'log_amount').add_legend()\n",
    "plt.title('The Distribution of log_amount by isFraud')"
   ]
  },
  {
   "cell_type": "code",
   "execution_count": 24,
   "metadata": {
    "collapsed": false
   },
   "outputs": [
    {
     "data": {
      "text/plain": [
       "<matplotlib.axes._subplots.AxesSubplot at 0x2278b890c18>"
      ]
     },
     "execution_count": 24,
     "metadata": {},
     "output_type": "execute_result"
    },
    {
     "data": {
      "image/png": "[encoded data removed]",
      "text/plain": [
       "<matplotlib.figure.Figure at 0x2278b890128>"
      ]
     },
     "metadata": {},
     "output_type": "display_data"
    }
   ],
   "source": [
    "plt.figure(figsize=[6, 6])\n",
    "sns.violinplot(x='isFraud', y='log_amount', data=df_ex, size=6)"
   ]
  },
  {
   "cell_type": "markdown",
   "metadata": {},
   "source": [
    "The log_amount looks like a better feature than the original amount"
   ]
  },
  {
   "cell_type": "code",
   "execution_count": 25,
   "metadata": {
    "collapsed": false
   },
   "outputs": [
    {
     "name": "stdout",
     "output_type": "stream",
     "text": [
      "11    339937\n",
      "10    266505\n",
      "9      26730\n",
      "8       2754\n",
      "7        301\n",
      "6         31\n",
      "5          4\n",
      "Name: nameOrig, dtype: int64\n"
     ]
    },
    {
     "data": {
      "image/png": "[encoded data removed]",
      "text/plain": [
       "<matplotlib.figure.Figure at 0x227a902d710>"
      ]
     },
     "metadata": {},
     "output_type": "display_data"
    }
   ],
   "source": [
    "### customer nameOrig\n",
    "\n",
    "## the distribution of length of name\n",
    "print(df_ex['nameOrig'].apply(lambda x: len(x)).value_counts())\n",
    "df_ex['len_nameOrig'] = df_ex['nameOrig'].apply(lambda x: len(x))\n",
    "\n",
    "plot_cat_tar_relationship(df_ex, 'len_nameOrig', 'isFraud')"
   ]
  },
  {
   "cell_type": "markdown",
   "metadata": {},
   "source": [
    "The length of names of 5 and 6 doesn't have fraudulant transaction."
   ]
  },
  {
   "cell_type": "code",
   "execution_count": 26,
   "metadata": {
    "collapsed": false
   },
   "outputs": [
    {
     "name": "stdout",
     "output_type": "stream",
     "text": [
      "C    636262\n",
      "Name: nameOrig, dtype: int64\n"
     ]
    }
   ],
   "source": [
    "### the distribution of the first character of the name\n",
    "print(df_ex['nameOrig'].apply(lambda x: x[0]).value_counts())"
   ]
  },
  {
   "cell_type": "markdown",
   "metadata": {},
   "source": [
    "All the names of originator start with 'C'."
   ]
  },
  {
   "cell_type": "code",
   "execution_count": 27,
   "metadata": {
    "collapsed": false
   },
   "outputs": [
    {
     "data": {
      "text/plain": [
       "<matplotlib.text.Text at 0x2278c19a400>"
      ]
     },
     "execution_count": 27,
     "metadata": {},
     "output_type": "execute_result"
    },
    {
     "data": {
      "text/plain": [
       "<matplotlib.figure.Figure at 0x22799f6b6d8>"
      ]
     },
     "metadata": {},
     "output_type": "display_data"
    },
    {
     "data": {
      "image/png": "[encoded data removed]",
      "text/plain": [
       "<matplotlib.figure.Figure at 0x2278c16c4a8>"
      ]
     },
     "metadata": {},
     "output_type": "display_data"
    }
   ],
   "source": [
    "### balance\n",
    "plt.figure(figsize=[6, 6])\n",
    "sns.FacetGrid(df_ex, hue='isFraud', size=6).map(sns.kdeplot, 'oldbalanceOrg').add_legend()\n",
    "plt.title('The Distribution of oldbalanceOrg by isFraud')"
   ]
  },
  {
   "cell_type": "markdown",
   "metadata": {},
   "source": [
    "#### Try log transformation to change the very skewed distribution of the data"
   ]
  },
  {
   "cell_type": "code",
   "execution_count": 28,
   "metadata": {
    "collapsed": true
   },
   "outputs": [],
   "source": [
    "df_ex['log_oldbalanceOrg'] = df_ex['oldbalanceOrg'].apply(lambda x: np.log1p(x))"
   ]
  },
  {
   "cell_type": "code",
   "execution_count": 29,
   "metadata": {
    "collapsed": false
   },
   "outputs": [
    {
     "data": {
      "text/plain": [
       "<matplotlib.text.Text at 0x2278c156518>"
      ]
     },
     "execution_count": 29,
     "metadata": {},
     "output_type": "execute_result"
    },
    {
     "data": {
      "text/plain": [
       "<matplotlib.figure.Figure at 0x2278bc89a90>"
      ]
     },
     "metadata": {},
     "output_type": "display_data"
    },
    {
     "data": {
      "image/png": "[encoded data removed]",
      "text/plain": [
       "<matplotlib.figure.Figure at 0x2278d0a02e8>"
      ]
     },
     "metadata": {},
     "output_type": "display_data"
    }
   ],
   "source": [
    "plt.figure(figsize=[6, 6])\n",
    "sns.FacetGrid(df_ex, hue='isFraud', size=6).map(sns.kdeplot, 'log_oldbalanceOrg').add_legend()\n",
    "plt.title('The Distribution of log_oldbalanceOrg by isFraud')"
   ]
  },
  {
   "cell_type": "markdown",
   "metadata": {},
   "source": [
    "The log-transformed balance data is better."
   ]
  },
  {
   "cell_type": "markdown",
   "metadata": {},
   "source": [
    "#### Since the feature \"newbalanceOrig\" is the difference of old balance and transaction amount, I would just skip this."
   ]
  },
  {
   "cell_type": "code",
   "execution_count": 30,
   "metadata": {
    "collapsed": false
   },
   "outputs": [
    {
     "name": "stdout",
     "output_type": "stream",
     "text": [
      "C    420930\n",
      "M    215332\n",
      "Name: nameDest, dtype: int64\n"
     ]
    }
   ],
   "source": [
    "### nameDest\n",
    "\n",
    "## the distribution of the first character of the nameDest\n",
    "print(df_ex['nameDest'].apply(lambda x: x[0]).value_counts())"
   ]
  },
  {
   "cell_type": "code",
   "execution_count": 31,
   "metadata": {
    "collapsed": false
   },
   "outputs": [
    {
     "data": {
      "image/png": "[encoded data removed]",
      "text/plain": [
       "<matplotlib.figure.Figure at 0x22799f6b630>"
      ]
     },
     "metadata": {},
     "output_type": "display_data"
    }
   ],
   "source": [
    "df_ex['first_nameDest'] = df_ex['nameDest'].apply(lambda x: x[0])\n",
    "plot_cat_tar_relationship(df_ex, 'first_nameDest', 'isFraud')"
   ]
  },
  {
   "cell_type": "code",
   "execution_count": 32,
   "metadata": {
    "collapsed": false
   },
   "outputs": [
    {
     "data": {
      "text/html": [
       "<div>\n",
       "<table border=\"1\" class=\"dataframe\">\n",
       "  <thead>\n",
       "    <tr style=\"text-align: right;\">\n",
       "      <th>isFraud</th>\n",
       "      <th>0</th>\n",
       "      <th>1</th>\n",
       "    </tr>\n",
       "    <tr>\n",
       "      <th>first_nameDest</th>\n",
       "      <th></th>\n",
       "      <th></th>\n",
       "    </tr>\n",
       "  </thead>\n",
       "  <tbody>\n",
       "    <tr>\n",
       "      <th>C</th>\n",
       "      <td>0.99805</td>\n",
       "      <td>0.00195</td>\n",
       "    </tr>\n",
       "    <tr>\n",
       "      <th>M</th>\n",
       "      <td>1.00000</td>\n",
       "      <td>0.00000</td>\n",
       "    </tr>\n",
       "  </tbody>\n",
       "</table>\n",
       "</div>"
      ],
      "text/plain": [
       "isFraud               0        1\n",
       "first_nameDest                  \n",
       "C               0.99805  0.00195\n",
       "M               1.00000  0.00000"
      ]
     },
     "execution_count": 32,
     "metadata": {},
     "output_type": "execute_result"
    }
   ],
   "source": [
    "pd.crosstab(df_ex['first_nameDest'], df_ex['isFraud']).apply(lambda x: x/np.sum(x), axis=1)"
   ]
  },
  {
   "cell_type": "markdown",
   "metadata": {},
   "source": [
    "Only when the recipient's name starts with 'C', the transaction would be fraudulent."
   ]
  },
  {
   "cell_type": "code",
   "execution_count": 33,
   "metadata": {
    "collapsed": false
   },
   "outputs": [
    {
     "data": {
      "text/plain": [
       "<matplotlib.text.Text at 0x2279a4fb7b8>"
      ]
     },
     "execution_count": 33,
     "metadata": {},
     "output_type": "execute_result"
    },
    {
     "data": {
      "text/plain": [
       "<matplotlib.figure.Figure at 0x227aeb02eb8>"
      ]
     },
     "metadata": {},
     "output_type": "display_data"
    },
    {
     "data": {
      "image/png": "[encoded data removed]",
      "text/plain": [
       "<matplotlib.figure.Figure at 0x2278c1e0470>"
      ]
     },
     "metadata": {},
     "output_type": "display_data"
    }
   ],
   "source": [
    "### oldbalanceDest (only for the nameDest starting with C)\n",
    "df_ex_c = df_ex.ix[df_ex['nameDest'].apply(lambda x: x[0]) == 'C', :]\n",
    "\n",
    "plt.figure(figsize=[6, 6])\n",
    "sns.FacetGrid(df_ex_c, hue='isFraud', size=6).map(sns.kdeplot, 'oldbalanceDest').add_legend()\n",
    "plt.title('The Distribution of oldbalanceDest by isFraud on recepient\\'s name starting with \"C\"', y=1.05)"
   ]
  },
  {
   "cell_type": "code",
   "execution_count": 34,
   "metadata": {
    "collapsed": false
   },
   "outputs": [
    {
     "data": {
      "text/plain": [
       "<matplotlib.text.Text at 0x227aeaf6668>"
      ]
     },
     "execution_count": 34,
     "metadata": {},
     "output_type": "execute_result"
    },
    {
     "data": {
      "text/plain": [
       "<matplotlib.figure.Figure at 0x2279a4f8390>"
      ]
     },
     "metadata": {},
     "output_type": "display_data"
    },
    {
     "data": {
      "image/png": "[encoded data removed]",
      "text/plain": [
       "<matplotlib.figure.Figure at 0x22799f850f0>"
      ]
     },
     "metadata": {},
     "output_type": "display_data"
    }
   ],
   "source": [
    "df_ex['log_oldbalanceDest'] = df_ex['oldbalanceDest'].apply(lambda x: np.log1p(x))\n",
    "\n",
    "df_ex_c = df_ex.ix[df_ex['nameDest'].apply(lambda x: x[0]) == 'C', :]\n",
    "plt.figure(figsize=[6, 6])\n",
    "sns.FacetGrid(df_ex_c, hue='isFraud', size=6).map(sns.kdeplot, 'log_oldbalanceDest').add_legend()\n",
    "plt.title('The Distribution of log_oldbalanceDest by isFraud on recepient\\'s name starting with \"C\"', y=1.05)"
   ]
  },
  {
   "cell_type": "code",
   "execution_count": 35,
   "metadata": {
    "collapsed": false
   },
   "outputs": [
    {
     "data": {
      "text/plain": [
       "<matplotlib.text.Text at 0x227aaf3c898>"
      ]
     },
     "execution_count": 35,
     "metadata": {},
     "output_type": "execute_result"
    },
    {
     "data": {
      "text/plain": [
       "<matplotlib.figure.Figure at 0x2278c1e3278>"
      ]
     },
     "metadata": {},
     "output_type": "display_data"
    },
    {
     "data": {
      "image/png": "[encoded data removed]",
      "text/plain": [
       "<matplotlib.figure.Figure at 0x227aeaf4438>"
      ]
     },
     "metadata": {},
     "output_type": "display_data"
    }
   ],
   "source": [
    "### newbalanceDest (only for the nameDest starting with C)\n",
    "df_ex_c = df_ex.ix[df_ex['nameDest'].apply(lambda x: x[0]) == 'C', :]\n",
    "\n",
    "plt.figure(figsize=[6, 6])\n",
    "sns.FacetGrid(df_ex_c, hue='isFraud', size=6).map(sns.kdeplot, 'newbalanceDest').add_legend()\n",
    "plt.title('The Distribution of newbalanceDest by isFraud on recepient\\'s name starting with \"C\"', y=1.05)"
   ]
  },
  {
   "cell_type": "code",
   "execution_count": 36,
   "metadata": {
    "collapsed": false
   },
   "outputs": [
    {
     "data": {
      "text/plain": [
       "<matplotlib.text.Text at 0x227b8b1e3c8>"
      ]
     },
     "execution_count": 36,
     "metadata": {},
     "output_type": "execute_result"
    },
    {
     "data": {
      "text/plain": [
       "<matplotlib.figure.Figure at 0x2278c144898>"
      ]
     },
     "metadata": {},
     "output_type": "display_data"
    },
    {
     "data": {
      "image/png": "[encoded data removed]",
      "text/plain": [
       "<matplotlib.figure.Figure at 0x227aaf3f2b0>"
      ]
     },
     "metadata": {},
     "output_type": "display_data"
    }
   ],
   "source": [
    "df_ex['log_newbalanceDest'] = df_ex['newbalanceDest'].apply(lambda x: np.log1p(x))\n",
    "\n",
    "df_ex_c = df_ex.ix[df_ex['nameDest'].apply(lambda x: x[0]) == 'C', :]\n",
    "\n",
    "plt.figure(figsize=[6, 6])\n",
    "sns.FacetGrid(df_ex_c, hue='isFraud', size=6).map(sns.kdeplot, 'log_newbalanceDest').add_legend()\n",
    "plt.title('The Distribution of log_newbalanceDest by isFraud')"
   ]
  },
  {
   "cell_type": "code",
   "execution_count": 37,
   "metadata": {
    "collapsed": false
   },
   "outputs": [
    {
     "data": {
      "text/html": [
       "<div>\n",
       "<table border=\"1\" class=\"dataframe\">\n",
       "  <thead>\n",
       "    <tr style=\"text-align: right;\">\n",
       "      <th></th>\n",
       "      <th>step</th>\n",
       "      <th>type</th>\n",
       "      <th>amount</th>\n",
       "      <th>nameOrig</th>\n",
       "      <th>oldbalanceOrg</th>\n",
       "      <th>newbalanceOrig</th>\n",
       "      <th>nameDest</th>\n",
       "      <th>oldbalanceDest</th>\n",
       "      <th>newbalanceDest</th>\n",
       "      <th>isFraud</th>\n",
       "      <th>isFlaggedFraud</th>\n",
       "      <th>log_amount</th>\n",
       "      <th>len_nameOrig</th>\n",
       "      <th>log_oldbalanceOrg</th>\n",
       "      <th>first_nameDest</th>\n",
       "      <th>log_oldbalanceDest</th>\n",
       "      <th>log_newbalanceDest</th>\n",
       "    </tr>\n",
       "  </thead>\n",
       "  <tbody>\n",
       "    <tr>\n",
       "      <th>0</th>\n",
       "      <td>40</td>\n",
       "      <td>CASH_OUT</td>\n",
       "      <td>181684.85</td>\n",
       "      <td>C970579956</td>\n",
       "      <td>31721.00</td>\n",
       "      <td>0.0</td>\n",
       "      <td>C1974771871</td>\n",
       "      <td>554779.49</td>\n",
       "      <td>736464.34</td>\n",
       "      <td>0</td>\n",
       "      <td>0</td>\n",
       "      <td>12.110034</td>\n",
       "      <td>10</td>\n",
       "      <td>10.364766</td>\n",
       "      <td>C</td>\n",
       "      <td>13.226328</td>\n",
       "      <td>13.509617</td>\n",
       "    </tr>\n",
       "    <tr>\n",
       "      <th>1</th>\n",
       "      <td>249</td>\n",
       "      <td>PAYMENT</td>\n",
       "      <td>15592.43</td>\n",
       "      <td>C1407104001</td>\n",
       "      <td>14026.07</td>\n",
       "      <td>0.0</td>\n",
       "      <td>M318665339</td>\n",
       "      <td>0.00</td>\n",
       "      <td>0.00</td>\n",
       "      <td>0</td>\n",
       "      <td>0</td>\n",
       "      <td>9.654605</td>\n",
       "      <td>11</td>\n",
       "      <td>9.548744</td>\n",
       "      <td>M</td>\n",
       "      <td>0.000000</td>\n",
       "      <td>0.000000</td>\n",
       "    </tr>\n",
       "    <tr>\n",
       "      <th>2</th>\n",
       "      <td>161</td>\n",
       "      <td>PAYMENT</td>\n",
       "      <td>2590.91</td>\n",
       "      <td>C413878150</td>\n",
       "      <td>0.00</td>\n",
       "      <td>0.0</td>\n",
       "      <td>M381603609</td>\n",
       "      <td>0.00</td>\n",
       "      <td>0.00</td>\n",
       "      <td>0</td>\n",
       "      <td>0</td>\n",
       "      <td>7.860150</td>\n",
       "      <td>10</td>\n",
       "      <td>0.000000</td>\n",
       "      <td>M</td>\n",
       "      <td>0.000000</td>\n",
       "      <td>0.000000</td>\n",
       "    </tr>\n",
       "    <tr>\n",
       "      <th>3</th>\n",
       "      <td>522</td>\n",
       "      <td>CASH_OUT</td>\n",
       "      <td>114788.20</td>\n",
       "      <td>C608709105</td>\n",
       "      <td>84337.00</td>\n",
       "      <td>0.0</td>\n",
       "      <td>C497385088</td>\n",
       "      <td>0.00</td>\n",
       "      <td>114788.20</td>\n",
       "      <td>0</td>\n",
       "      <td>0</td>\n",
       "      <td>11.650853</td>\n",
       "      <td>10</td>\n",
       "      <td>11.342588</td>\n",
       "      <td>C</td>\n",
       "      <td>0.000000</td>\n",
       "      <td>11.650853</td>\n",
       "    </tr>\n",
       "    <tr>\n",
       "      <th>4</th>\n",
       "      <td>140</td>\n",
       "      <td>PAYMENT</td>\n",
       "      <td>7178.71</td>\n",
       "      <td>C527097845</td>\n",
       "      <td>0.00</td>\n",
       "      <td>0.0</td>\n",
       "      <td>M974835623</td>\n",
       "      <td>0.00</td>\n",
       "      <td>0.00</td>\n",
       "      <td>0</td>\n",
       "      <td>0</td>\n",
       "      <td>8.879014</td>\n",
       "      <td>10</td>\n",
       "      <td>0.000000</td>\n",
       "      <td>M</td>\n",
       "      <td>0.000000</td>\n",
       "      <td>0.000000</td>\n",
       "    </tr>\n",
       "  </tbody>\n",
       "</table>\n",
       "</div>"
      ],
      "text/plain": [
       "   step      type     amount     nameOrig  oldbalanceOrg  newbalanceOrig  \\\n",
       "0    40  CASH_OUT  181684.85   C970579956       31721.00             0.0   \n",
       "1   249   PAYMENT   15592.43  C1407104001       14026.07             0.0   \n",
       "2   161   PAYMENT    2590.91   C413878150           0.00             0.0   \n",
       "3   522  CASH_OUT  114788.20   C608709105       84337.00             0.0   \n",
       "4   140   PAYMENT    7178.71   C527097845           0.00             0.0   \n",
       "\n",
       "      nameDest  oldbalanceDest  newbalanceDest  isFraud  isFlaggedFraud  \\\n",
       "0  C1974771871       554779.49       736464.34        0               0   \n",
       "1   M318665339            0.00            0.00        0               0   \n",
       "2   M381603609            0.00            0.00        0               0   \n",
       "3   C497385088            0.00       114788.20        0               0   \n",
       "4   M974835623            0.00            0.00        0               0   \n",
       "\n",
       "   log_amount  len_nameOrig  log_oldbalanceOrg first_nameDest  \\\n",
       "0   12.110034            10          10.364766              C   \n",
       "1    9.654605            11           9.548744              M   \n",
       "2    7.860150            10           0.000000              M   \n",
       "3   11.650853            10          11.342588              C   \n",
       "4    8.879014            10           0.000000              M   \n",
       "\n",
       "   log_oldbalanceDest  log_newbalanceDest  \n",
       "0           13.226328           13.509617  \n",
       "1            0.000000            0.000000  \n",
       "2            0.000000            0.000000  \n",
       "3            0.000000           11.650853  \n",
       "4            0.000000            0.000000  "
      ]
     },
     "execution_count": 37,
     "metadata": {},
     "output_type": "execute_result"
    }
   ],
   "source": [
    "df_ex.head()"
   ]
  },
  {
   "cell_type": "markdown",
   "metadata": {},
   "source": [
    "#### Relationship between categorical variables and target variable"
   ]
  },
  {
   "cell_type": "code",
   "execution_count": 38,
   "metadata": {
    "collapsed": false
   },
   "outputs": [
    {
     "data": {
      "text/plain": [
       "<matplotlib.text.Text at 0x227b8cd5630>"
      ]
     },
     "execution_count": 38,
     "metadata": {},
     "output_type": "execute_result"
    },
    {
     "data": {
      "image/png": "[encoded data removed]",
      "text/plain": [
       "<matplotlib.figure.Figure at 0x2279a4e64e0>"
      ]
     },
     "metadata": {},
     "output_type": "display_data"
    }
   ],
   "source": [
    "features = ['type', 'first_nameDest', 'isFraud']\n",
    "sns.heatmap(cat_relationship(features, df_ex), xticklabels=features, yticklabels=features, linewidths=1, annot=True)        \n",
    "plt.title('Relationship Between Categorical Variables (1 - p-value of chi-squared)', y=1.05)"
   ]
  },
  {
   "cell_type": "markdown",
   "metadata": {},
   "source": [
    "#### Relationship between numerical variables"
   ]
  },
  {
   "cell_type": "code",
   "execution_count": 39,
   "metadata": {
    "collapsed": false
   },
   "outputs": [
    {
     "data": {
      "text/plain": [
       "<matplotlib.text.Text at 0x2278c2811d0>"
      ]
     },
     "execution_count": 39,
     "metadata": {},
     "output_type": "execute_result"
    },
    {
     "data": {
      "image/png": "[encoded data removed]",
      "text/plain": [
       "<matplotlib.figure.Figure at 0x2278c245dd8>"
      ]
     },
     "metadata": {},
     "output_type": "display_data"
    }
   ],
   "source": [
    "features = ['log_amount', 'log_oldbalanceOrg', 'log_oldbalanceDest', 'log_newbalanceDest']\n",
    "sns.heatmap(num_relationship(features, df_ex), xticklabels=features, yticklabels=features, linewidths=1, annot=True)        \n",
    "plt.title('Relationship Between Numerical Variables (Spearman)')"
   ]
  },
  {
   "cell_type": "markdown",
   "metadata": {},
   "source": [
    "#### Relationship between numerical and categorical variables"
   ]
  },
  {
   "cell_type": "code",
   "execution_count": 40,
   "metadata": {
    "collapsed": false
   },
   "outputs": [
    {
     "data": {
      "text/plain": [
       "<matplotlib.text.Text at 0x2278c4b45f8>"
      ]
     },
     "execution_count": 40,
     "metadata": {},
     "output_type": "execute_result"
    },
    {
     "data": {
      "image/png": "[encoded data removed]",
      "text/plain": [
       "<matplotlib.figure.Figure at 0x227b8b180b8>"
      ]
     },
     "metadata": {},
     "output_type": "display_data"
    }
   ],
   "source": [
    "num_features = ['log_amount', 'log_oldbalanceOrg', 'log_oldbalanceDest', 'log_newbalanceDest']\n",
    "cat_features = ['type', 'first_nameDest', 'isFraud']\n",
    "\n",
    "sns.heatmap(num_cat_relationship(num_features, cat_features, df_ex), xticklabels=cat_features, yticklabels=num_features, linewidths=1, annot=True) \n",
    "plt.title('Relationship Between Numerical and Categorical Variables (1 - p-value of ANOVA)', y=1.05)"
   ]
  },
  {
   "cell_type": "markdown",
   "metadata": {},
   "source": [
    "Since the above relationships may be affected by the amount of data, the outcomes are just for reference."
   ]
  },
  {
   "cell_type": "markdown",
   "metadata": {},
   "source": [
    "## Get ready for modeling "
   ]
  },
  {
   "cell_type": "markdown",
   "metadata": {},
   "source": [
    "#### I would like to use undersampling to deal with the problem of quite imbalalnced target variable"
   ]
  },
  {
   "cell_type": "code",
   "execution_count": 5,
   "metadata": {
    "collapsed": true
   },
   "outputs": [],
   "source": [
    "### Prepare the data for modeling \n",
    "num_col = ['amount', 'oldbalanceOrg', 'oldbalanceDest', 'newbalanceDest']\n",
    "def model_preprocess(df, num_col = []):\n",
    "    \n",
    "    ### one-hot encoding\n",
    "    df_new = pd.get_dummies(df['type'], prefix='type')\n",
    "    \n",
    "    df['first_nameDest'] = df['nameDest'].apply(lambda x: x[0])\n",
    "    df_new = pd.concat([df_new, pd.get_dummies(df['first_nameDest'], prefix='nameDist')], axis=1)\n",
    "    \n",
    "    ### numerical variables\n",
    "    df_new = pd.concat([df_new, df.ix[:, num_col]], axis=1)\n",
    "    \n",
    "    for feature in num_col:\n",
    "        df_new['log_'+feature] = df[feature].apply(lambda x: np.log1p(x))\n",
    "    \n",
    "    ### target variable\n",
    "    df_new['isFraud'] = df['isFraud']\n",
    "    \n",
    "    return df_new\n",
    "\n",
    "df_new = model_preprocess(df, num_col)"
   ]
  },
  {
   "cell_type": "code",
   "execution_count": 6,
   "metadata": {
    "collapsed": false
   },
   "outputs": [
    {
     "data": {
      "text/html": [
       "<div>\n",
       "<table border=\"1\" class=\"dataframe\">\n",
       "  <thead>\n",
       "    <tr style=\"text-align: right;\">\n",
       "      <th></th>\n",
       "      <th>type_CASH_IN</th>\n",
       "      <th>type_CASH_OUT</th>\n",
       "      <th>type_DEBIT</th>\n",
       "      <th>type_PAYMENT</th>\n",
       "      <th>type_TRANSFER</th>\n",
       "      <th>nameDist_C</th>\n",
       "      <th>nameDist_M</th>\n",
       "      <th>amount</th>\n",
       "      <th>oldbalanceOrg</th>\n",
       "      <th>oldbalanceDest</th>\n",
       "      <th>newbalanceDest</th>\n",
       "      <th>log_amount</th>\n",
       "      <th>log_oldbalanceOrg</th>\n",
       "      <th>log_oldbalanceDest</th>\n",
       "      <th>log_newbalanceDest</th>\n",
       "      <th>isFraud</th>\n",
       "    </tr>\n",
       "  </thead>\n",
       "  <tbody>\n",
       "    <tr>\n",
       "      <th>0</th>\n",
       "      <td>0</td>\n",
       "      <td>0</td>\n",
       "      <td>0</td>\n",
       "      <td>1</td>\n",
       "      <td>0</td>\n",
       "      <td>0</td>\n",
       "      <td>1</td>\n",
       "      <td>9839.64</td>\n",
       "      <td>170136.0</td>\n",
       "      <td>0.0</td>\n",
       "      <td>0.0</td>\n",
       "      <td>9.194276</td>\n",
       "      <td>12.044359</td>\n",
       "      <td>0.000000</td>\n",
       "      <td>0.0</td>\n",
       "      <td>0</td>\n",
       "    </tr>\n",
       "    <tr>\n",
       "      <th>1</th>\n",
       "      <td>0</td>\n",
       "      <td>0</td>\n",
       "      <td>0</td>\n",
       "      <td>1</td>\n",
       "      <td>0</td>\n",
       "      <td>0</td>\n",
       "      <td>1</td>\n",
       "      <td>1864.28</td>\n",
       "      <td>21249.0</td>\n",
       "      <td>0.0</td>\n",
       "      <td>0.0</td>\n",
       "      <td>7.531166</td>\n",
       "      <td>9.964112</td>\n",
       "      <td>0.000000</td>\n",
       "      <td>0.0</td>\n",
       "      <td>0</td>\n",
       "    </tr>\n",
       "    <tr>\n",
       "      <th>2</th>\n",
       "      <td>0</td>\n",
       "      <td>0</td>\n",
       "      <td>0</td>\n",
       "      <td>0</td>\n",
       "      <td>1</td>\n",
       "      <td>1</td>\n",
       "      <td>0</td>\n",
       "      <td>181.00</td>\n",
       "      <td>181.0</td>\n",
       "      <td>0.0</td>\n",
       "      <td>0.0</td>\n",
       "      <td>5.204007</td>\n",
       "      <td>5.204007</td>\n",
       "      <td>0.000000</td>\n",
       "      <td>0.0</td>\n",
       "      <td>1</td>\n",
       "    </tr>\n",
       "    <tr>\n",
       "      <th>3</th>\n",
       "      <td>0</td>\n",
       "      <td>1</td>\n",
       "      <td>0</td>\n",
       "      <td>0</td>\n",
       "      <td>0</td>\n",
       "      <td>1</td>\n",
       "      <td>0</td>\n",
       "      <td>181.00</td>\n",
       "      <td>181.0</td>\n",
       "      <td>21182.0</td>\n",
       "      <td>0.0</td>\n",
       "      <td>5.204007</td>\n",
       "      <td>5.204007</td>\n",
       "      <td>9.960954</td>\n",
       "      <td>0.0</td>\n",
       "      <td>1</td>\n",
       "    </tr>\n",
       "    <tr>\n",
       "      <th>4</th>\n",
       "      <td>0</td>\n",
       "      <td>0</td>\n",
       "      <td>0</td>\n",
       "      <td>1</td>\n",
       "      <td>0</td>\n",
       "      <td>0</td>\n",
       "      <td>1</td>\n",
       "      <td>11668.14</td>\n",
       "      <td>41554.0</td>\n",
       "      <td>0.0</td>\n",
       "      <td>0.0</td>\n",
       "      <td>9.364703</td>\n",
       "      <td>10.634773</td>\n",
       "      <td>0.000000</td>\n",
       "      <td>0.0</td>\n",
       "      <td>0</td>\n",
       "    </tr>\n",
       "  </tbody>\n",
       "</table>\n",
       "</div>"
      ],
      "text/plain": [
       "   type_CASH_IN  type_CASH_OUT  type_DEBIT  type_PAYMENT  type_TRANSFER  \\\n",
       "0             0              0           0             1              0   \n",
       "1             0              0           0             1              0   \n",
       "2             0              0           0             0              1   \n",
       "3             0              1           0             0              0   \n",
       "4             0              0           0             1              0   \n",
       "\n",
       "   nameDist_C  nameDist_M    amount  oldbalanceOrg  oldbalanceDest  \\\n",
       "0           0           1   9839.64       170136.0             0.0   \n",
       "1           0           1   1864.28        21249.0             0.0   \n",
       "2           1           0    181.00          181.0             0.0   \n",
       "3           1           0    181.00          181.0         21182.0   \n",
       "4           0           1  11668.14        41554.0             0.0   \n",
       "\n",
       "   newbalanceDest  log_amount  log_oldbalanceOrg  log_oldbalanceDest  \\\n",
       "0             0.0    9.194276          12.044359            0.000000   \n",
       "1             0.0    7.531166           9.964112            0.000000   \n",
       "2             0.0    5.204007           5.204007            0.000000   \n",
       "3             0.0    5.204007           5.204007            9.960954   \n",
       "4             0.0    9.364703          10.634773            0.000000   \n",
       "\n",
       "   log_newbalanceDest  isFraud  \n",
       "0                 0.0        0  \n",
       "1                 0.0        0  \n",
       "2                 0.0        1  \n",
       "3                 0.0        1  \n",
       "4                 0.0        0  "
      ]
     },
     "execution_count": 6,
     "metadata": {},
     "output_type": "execute_result"
    }
   ],
   "source": [
    "df_new.head()"
   ]
  },
  {
   "cell_type": "code",
   "execution_count": 7,
   "metadata": {
    "collapsed": false
   },
   "outputs": [],
   "source": [
    "### under sampling the dataset (use the ratio of 50:50, and I only use 80% of the fraudulent data)\n",
    "\n",
    "## Fraud\n",
    "fraud_ind_list = list(df_new['isFraud'][df_new['isFraud'] == 1].index)\n",
    "np.random.seed(seed)\n",
    "fraud_sample_ind_list = np.random.choice(fraud_ind_list, int(len(fraud_ind_list)*0.8), replace=False)\n",
    "\n",
    "ratio = 0.5\n",
    "nonfraud_ind_list = list(df_new['isFraud'][df_new['isFraud'] != 1].index)\n",
    "nonfraud_sample_ind_list = np.random.choice(nonfraud_ind_list, int(len(fraud_sample_ind_list)*((1-ratio)/ratio)), replace=False)"
   ]
  },
  {
   "cell_type": "code",
   "execution_count": 44,
   "metadata": {
    "collapsed": false
   },
   "outputs": [
    {
     "name": "stdout",
     "output_type": "stream",
     "text": [
      "13140\n"
     ]
    }
   ],
   "source": [
    "train_ind = np.r_[fraud_sample_ind_list, nonfraud_sample_ind_list]\n",
    "print(len(train_ind))"
   ]
  },
  {
   "cell_type": "code",
   "execution_count": 45,
   "metadata": {
    "collapsed": true
   },
   "outputs": [],
   "source": [
    "np.random.shuffle(train_ind)"
   ]
  },
  {
   "cell_type": "code",
   "execution_count": 46,
   "metadata": {
    "collapsed": true
   },
   "outputs": [],
   "source": [
    "df_tr = df_new.ix[train_ind, :]"
   ]
  },
  {
   "cell_type": "code",
   "execution_count": 47,
   "metadata": {
    "collapsed": false
   },
   "outputs": [],
   "source": [
    "df_tr.index = range(len(df_tr))"
   ]
  },
  {
   "cell_type": "code",
   "execution_count": 48,
   "metadata": {
    "collapsed": false
   },
   "outputs": [
    {
     "data": {
      "text/html": [
       "<div>\n",
       "<table border=\"1\" class=\"dataframe\">\n",
       "  <thead>\n",
       "    <tr style=\"text-align: right;\">\n",
       "      <th></th>\n",
       "      <th>type_CASH_IN</th>\n",
       "      <th>type_CASH_OUT</th>\n",
       "      <th>type_DEBIT</th>\n",
       "      <th>type_PAYMENT</th>\n",
       "      <th>type_TRANSFER</th>\n",
       "      <th>nameDist_C</th>\n",
       "      <th>nameDist_M</th>\n",
       "      <th>amount</th>\n",
       "      <th>oldbalanceOrg</th>\n",
       "      <th>oldbalanceDest</th>\n",
       "      <th>newbalanceDest</th>\n",
       "      <th>log_amount</th>\n",
       "      <th>log_oldbalanceOrg</th>\n",
       "      <th>log_oldbalanceDest</th>\n",
       "      <th>log_newbalanceDest</th>\n",
       "      <th>isFraud</th>\n",
       "    </tr>\n",
       "  </thead>\n",
       "  <tbody>\n",
       "    <tr>\n",
       "      <th>0</th>\n",
       "      <td>0</td>\n",
       "      <td>0</td>\n",
       "      <td>0</td>\n",
       "      <td>0</td>\n",
       "      <td>1</td>\n",
       "      <td>1</td>\n",
       "      <td>0</td>\n",
       "      <td>2388251.16</td>\n",
       "      <td>2388251.16</td>\n",
       "      <td>0.00</td>\n",
       "      <td>0.00</td>\n",
       "      <td>14.686072</td>\n",
       "      <td>14.686072</td>\n",
       "      <td>0.000000</td>\n",
       "      <td>0.000000</td>\n",
       "      <td>1</td>\n",
       "    </tr>\n",
       "    <tr>\n",
       "      <th>1</th>\n",
       "      <td>0</td>\n",
       "      <td>0</td>\n",
       "      <td>0</td>\n",
       "      <td>1</td>\n",
       "      <td>0</td>\n",
       "      <td>0</td>\n",
       "      <td>1</td>\n",
       "      <td>615.62</td>\n",
       "      <td>80.00</td>\n",
       "      <td>0.00</td>\n",
       "      <td>0.00</td>\n",
       "      <td>6.424253</td>\n",
       "      <td>4.394449</td>\n",
       "      <td>0.000000</td>\n",
       "      <td>0.000000</td>\n",
       "      <td>0</td>\n",
       "    </tr>\n",
       "    <tr>\n",
       "      <th>2</th>\n",
       "      <td>0</td>\n",
       "      <td>0</td>\n",
       "      <td>0</td>\n",
       "      <td>0</td>\n",
       "      <td>1</td>\n",
       "      <td>1</td>\n",
       "      <td>0</td>\n",
       "      <td>98533.36</td>\n",
       "      <td>98533.36</td>\n",
       "      <td>0.00</td>\n",
       "      <td>0.00</td>\n",
       "      <td>11.498161</td>\n",
       "      <td>11.498161</td>\n",
       "      <td>0.000000</td>\n",
       "      <td>0.000000</td>\n",
       "      <td>1</td>\n",
       "    </tr>\n",
       "    <tr>\n",
       "      <th>3</th>\n",
       "      <td>0</td>\n",
       "      <td>1</td>\n",
       "      <td>0</td>\n",
       "      <td>0</td>\n",
       "      <td>0</td>\n",
       "      <td>1</td>\n",
       "      <td>0</td>\n",
       "      <td>8991625.83</td>\n",
       "      <td>8991625.83</td>\n",
       "      <td>2195033.03</td>\n",
       "      <td>11186658.86</td>\n",
       "      <td>16.011804</td>\n",
       "      <td>16.011804</td>\n",
       "      <td>14.601708</td>\n",
       "      <td>16.230233</td>\n",
       "      <td>1</td>\n",
       "    </tr>\n",
       "    <tr>\n",
       "      <th>4</th>\n",
       "      <td>0</td>\n",
       "      <td>1</td>\n",
       "      <td>0</td>\n",
       "      <td>0</td>\n",
       "      <td>0</td>\n",
       "      <td>1</td>\n",
       "      <td>0</td>\n",
       "      <td>373669.68</td>\n",
       "      <td>504989.00</td>\n",
       "      <td>371909.78</td>\n",
       "      <td>745579.45</td>\n",
       "      <td>12.831130</td>\n",
       "      <td>13.132294</td>\n",
       "      <td>12.826409</td>\n",
       "      <td>13.521918</td>\n",
       "      <td>0</td>\n",
       "    </tr>\n",
       "  </tbody>\n",
       "</table>\n",
       "</div>"
      ],
      "text/plain": [
       "   type_CASH_IN  type_CASH_OUT  type_DEBIT  type_PAYMENT  type_TRANSFER  \\\n",
       "0             0              0           0             0              1   \n",
       "1             0              0           0             1              0   \n",
       "2             0              0           0             0              1   \n",
       "3             0              1           0             0              0   \n",
       "4             0              1           0             0              0   \n",
       "\n",
       "   nameDist_C  nameDist_M      amount  oldbalanceOrg  oldbalanceDest  \\\n",
       "0           1           0  2388251.16     2388251.16            0.00   \n",
       "1           0           1      615.62          80.00            0.00   \n",
       "2           1           0    98533.36       98533.36            0.00   \n",
       "3           1           0  8991625.83     8991625.83      2195033.03   \n",
       "4           1           0   373669.68      504989.00       371909.78   \n",
       "\n",
       "   newbalanceDest  log_amount  log_oldbalanceOrg  log_oldbalanceDest  \\\n",
       "0            0.00   14.686072          14.686072            0.000000   \n",
       "1            0.00    6.424253           4.394449            0.000000   \n",
       "2            0.00   11.498161          11.498161            0.000000   \n",
       "3     11186658.86   16.011804          16.011804           14.601708   \n",
       "4       745579.45   12.831130          13.132294           12.826409   \n",
       "\n",
       "   log_newbalanceDest  isFraud  \n",
       "0            0.000000        1  \n",
       "1            0.000000        0  \n",
       "2            0.000000        1  \n",
       "3           16.230233        1  \n",
       "4           13.521918        0  "
      ]
     },
     "execution_count": 48,
     "metadata": {},
     "output_type": "execute_result"
    }
   ],
   "source": [
    "df_tr.head()"
   ]
  },
  {
   "cell_type": "markdown",
   "metadata": {},
   "source": [
    "## Modeling"
   ]
  },
  {
   "cell_type": "code",
   "execution_count": 49,
   "metadata": {
    "collapsed": true
   },
   "outputs": [],
   "source": [
    "X = df_tr.ix[:, df_tr.columns[:-1]].values\n",
    "y = df_tr['isFraud'].values"
   ]
  },
  {
   "cell_type": "markdown",
   "metadata": {},
   "source": [
    "#### How each feature performs"
   ]
  },
  {
   "cell_type": "code",
   "execution_count": 50,
   "metadata": {
    "collapsed": false
   },
   "outputs": [
    {
     "data": {
      "text/plain": [
       "RandomForestClassifier(bootstrap=True, class_weight=None, criterion='gini',\n",
       "            max_depth=None, max_features='auto', max_leaf_nodes=None,\n",
       "            min_impurity_split=1e-07, min_samples_leaf=1,\n",
       "            min_samples_split=2, min_weight_fraction_leaf=0.0,\n",
       "            n_estimators=500, n_jobs=1, oob_score=False, random_state=None,\n",
       "            verbose=0, warm_start=False)"
      ]
     },
     "execution_count": 50,
     "metadata": {},
     "output_type": "execute_result"
    }
   ],
   "source": [
    "from sklearn.ensemble import RandomForestClassifier\n",
    "model = RandomForestClassifier(n_estimators=500)\n",
    "model.fit(X, y)"
   ]
  },
  {
   "cell_type": "code",
   "execution_count": 51,
   "metadata": {
    "collapsed": false
   },
   "outputs": [
    {
     "name": "stdout",
     "output_type": "stream",
     "text": [
      "log_oldbalanceOrg :   0.16603\n",
      "oldbalanceOrg :   0.15789\n",
      "log_amount :   0.12016\n",
      "amount :   0.11528\n",
      "type_CASH_IN :   0.07983\n",
      "type_TRANSFER :   0.06301\n",
      "type_CASH_OUT :   0.04734\n",
      "log_newbalanceDest :   0.03935\n",
      "newbalanceDest :   0.03664\n",
      "nameDist_C :   0.03657\n",
      "nameDist_M :   0.03512\n",
      "oldbalanceDest :   0.03501\n",
      "log_oldbalanceDest :   0.03409\n",
      "type_PAYMENT :   0.03282\n",
      "type_DEBIT :   0.00086\n"
     ]
    }
   ],
   "source": [
    "ind = np.argsort(np.array(model.feature_importances_))\n",
    "\n",
    "for i in range(len(ind)):\n",
    "    print(np.array(df_tr.columns[:-1])[ind][::-1][i], ':  ', np.round(np.array(model.feature_importances_)[ind][::-1][i], 5))"
   ]
  },
  {
   "cell_type": "markdown",
   "metadata": {},
   "source": [
    "#### Logistic Regression"
   ]
  },
  {
   "cell_type": "code",
   "execution_count": 52,
   "metadata": {
    "collapsed": false
   },
   "outputs": [
    {
     "name": "stdout",
     "output_type": "stream",
     "text": [
      "0.649162861492\n",
      "0.647640791476\n",
      "0.641933028919\n",
      "0.637747336377\n",
      "0.659817351598\n",
      "Mean accuracy: 0.647260273973\n"
     ]
    }
   ],
   "source": [
    "from sklearn.linear_model import LogisticRegression\n",
    "from sklearn.model_selection import KFold\n",
    "from sklearn.metrics import accuracy_score\n",
    "\n",
    "kf = KFold(5, random_state=seed, shuffle=True)\n",
    "\n",
    "mean_accuracy = []\n",
    "\n",
    "for fold in kf.split(X):\n",
    "    model = LogisticRegression()\n",
    "    model.fit(X[fold[0]], y[fold[0]])\n",
    "    print(accuracy_score(y[fold[1]], model.predict(X[fold[1]])))\n",
    "    mean_accuracy.append(accuracy_score(y[fold[1]], model.predict(X[fold[1]])))\n",
    "print('Mean accuracy: '+str(np.mean(mean_accuracy)))"
   ]
  },
  {
   "cell_type": "markdown",
   "metadata": {},
   "source": [
    "#### SVM"
   ]
  },
  {
   "cell_type": "code",
   "execution_count": 53,
   "metadata": {
    "collapsed": false
   },
   "outputs": [
    {
     "name": "stdout",
     "output_type": "stream",
     "text": [
      "0.518645357686\n",
      "0.512937595129\n",
      "0.528538812785\n",
      "0.507610350076\n",
      "0.505707762557\n",
      "Mean accuracy: 0.514687975647\n"
     ]
    }
   ],
   "source": [
    "from sklearn.svm import SVC\n",
    "from sklearn.model_selection import KFold\n",
    "from sklearn.metrics import accuracy_score\n",
    "\n",
    "kf = KFold(5, random_state=seed, shuffle=True)\n",
    "\n",
    "mean_accuracy = []\n",
    "\n",
    "for fold in kf.split(X):\n",
    "    model = SVC()\n",
    "    model.fit(X[fold[0]], y[fold[0]])\n",
    "    print(accuracy_score(y[fold[1]], model.predict(X[fold[1]])))\n",
    "    mean_accuracy.append(accuracy_score(y[fold[1]], model.predict(X[fold[1]])))\n",
    "print('Mean accuracy: '+str(np.mean(mean_accuracy)))"
   ]
  },
  {
   "cell_type": "markdown",
   "metadata": {},
   "source": [
    "#### Naive Bayes"
   ]
  },
  {
   "cell_type": "code",
   "execution_count": 54,
   "metadata": {
    "collapsed": false
   },
   "outputs": [
    {
     "name": "stdout",
     "output_type": "stream",
     "text": [
      "0.630136986301\n",
      "0.633942161339\n",
      "0.646118721461\n",
      "0.602359208524\n",
      "0.614155251142\n",
      "Mean accuracy: 0.625342465753\n"
     ]
    }
   ],
   "source": [
    "from sklearn.naive_bayes import GaussianNB\n",
    "from sklearn.model_selection import KFold\n",
    "from sklearn.metrics import accuracy_score\n",
    "\n",
    "kf = KFold(5, random_state=seed, shuffle=True)\n",
    "\n",
    "mean_accuracy = []\n",
    "\n",
    "for fold in kf.split(X):\n",
    "    model = GaussianNB()\n",
    "    model.fit(X[fold[0]], y[fold[0]])\n",
    "    print(accuracy_score(y[fold[1]], model.predict(X[fold[1]])))\n",
    "    mean_accuracy.append(accuracy_score(y[fold[1]], model.predict(X[fold[1]])))\n",
    "print('Mean accuracy: '+str(np.mean(mean_accuracy)))"
   ]
  },
  {
   "cell_type": "markdown",
   "metadata": {},
   "source": [
    "#### Random Forest"
   ]
  },
  {
   "cell_type": "code",
   "execution_count": 55,
   "metadata": {
    "collapsed": false
   },
   "outputs": [
    {
     "name": "stdout",
     "output_type": "stream",
     "text": [
      "0.98401826484\n",
      "0.980213089802\n",
      "0.98097412481\n",
      "0.984779299848\n",
      "0.982496194825\n",
      "Mean accuracy: 0.982496194825\n"
     ]
    }
   ],
   "source": [
    "from sklearn.ensemble import RandomForestClassifier\n",
    "from sklearn.model_selection import KFold\n",
    "from sklearn.metrics import accuracy_score\n",
    "\n",
    "kf = KFold(5, random_state=seed, shuffle=True)\n",
    "\n",
    "mean_accuracy = []\n",
    "\n",
    "for fold in kf.split(X):\n",
    "    model = RandomForestClassifier()\n",
    "    model.fit(X[fold[0]], y[fold[0]])\n",
    "    print(accuracy_score(y[fold[1]], model.predict(X[fold[1]])))\n",
    "    mean_accuracy.append(accuracy_score(y[fold[1]], model.predict(X[fold[1]])))\n",
    "print('Mean accuracy: '+str(np.mean(mean_accuracy)))"
   ]
  },
  {
   "cell_type": "markdown",
   "metadata": {},
   "source": [
    "#### Xgboost"
   ]
  },
  {
   "cell_type": "code",
   "execution_count": 56,
   "metadata": {
    "collapsed": false
   },
   "outputs": [
    {
     "name": "stderr",
     "output_type": "stream",
     "text": [
      "C:\\Users\\user\\Anaconda3\\lib\\site-packages\\sklearn\\cross_validation.py:44: DeprecationWarning:\n",
      "\n",
      "This module was deprecated in version 0.18 in favor of the model_selection module into which all the refactored classes and functions are moved. Also note that the interface of the new CV iterators are different from that of this module. This module will be removed in 0.20.\n",
      "\n"
     ]
    },
    {
     "name": "stdout",
     "output_type": "stream",
     "text": [
      "0.978691019787\n",
      "0.974505327245\n",
      "0.974505327245\n",
      "0.977929984779\n",
      "0.981354642314\n",
      "Mean accuracy: 0.977397260274\n"
     ]
    }
   ],
   "source": [
    "from xgboost import XGBClassifier\n",
    "from sklearn.model_selection import KFold\n",
    "from sklearn.metrics import accuracy_score\n",
    "\n",
    "kf = KFold(5, random_state=seed, shuffle=True)\n",
    "\n",
    "mean_accuracy = []\n",
    "\n",
    "for fold in kf.split(X):\n",
    "    model = XGBClassifier()\n",
    "    model.fit(X[fold[0]], y[fold[0]])\n",
    "    print(accuracy_score(y[fold[1]], model.predict(X[fold[1]])))\n",
    "    mean_accuracy.append(accuracy_score(y[fold[1]], model.predict(X[fold[1]])))\n",
    "print('Mean accuracy: '+str(np.mean(mean_accuracy)))    "
   ]
  },
  {
   "cell_type": "markdown",
   "metadata": {},
   "source": [
    "#### Neural Network"
   ]
  },
  {
   "cell_type": "code",
   "execution_count": 139,
   "metadata": {
    "collapsed": false
   },
   "outputs": [
    {
     "name": "stdout",
     "output_type": "stream",
     "text": [
      "2560/2628 [============================>.] - ETA: 0s0.901445966514\n",
      "2464/2628 [===========================>..] - ETA: 0s0.939497716895\n",
      "2464/2628 [===========================>..] - ETA: 0s0.952815829528\n",
      "2432/2628 [==========================>...] - ETA: 0s0.956240487062\n",
      "2464/2628 [===========================>..] - ETA: 0s0.90601217656\n"
     ]
    }
   ],
   "source": [
    "from keras.models import Sequential\n",
    "from keras.layers import Dense\n",
    "from keras.layers import Dropout\n",
    "from keras.utils import np_utils\n",
    "from sklearn.model_selection import KFold\n",
    "from sklearn.metrics import log_loss\n",
    "from keras.layers import advanced_activations\n",
    "\n",
    "np.random.seed(seed)\n",
    "\n",
    "kf = KFold(5, random_state=seed, shuffle=True)\n",
    "\n",
    "for fold in kf.split(X):\n",
    "    model = Sequential()\n",
    "    model.add(Dense(12, input_dim=len(df_new.columns[:-1]), init='uniform', activation='relu'))\n",
    "    model.add(Dropout(0.3))\n",
    "    model.add(Dense(8, init='uniform', activation='relu'))\n",
    "    model.add(Dense(4, init='uniform', activation='relu'))\n",
    "    model.add(Dropout(0.1))\n",
    "    model.add(Dense(1, init='uniform', activation='sigmoid'))\n",
    "\n",
    "    model.compile(loss='binary_crossentropy', optimizer='adam', metrics=['accuracy'])\n",
    "\n",
    "    model.fit(X[fold[0]], y[fold[0]], nb_epoch=150, batch_size=32, verbose=0)\n",
    "    \n",
    "    print(accuracy_score(y[fold[1]], model.predict_classes(X[fold[1]])))"
   ]
  },
  {
   "cell_type": "markdown",
   "metadata": {},
   "source": [
    "The basic setting is not good."
   ]
  },
  {
   "cell_type": "markdown",
   "metadata": {},
   "source": [
    "#### Remove highly-correlated features"
   ]
  },
  {
   "cell_type": "code",
   "execution_count": 57,
   "metadata": {
    "collapsed": true
   },
   "outputs": [],
   "source": [
    "### remove log_oldbalanceDest and oldbalanceDest\n",
    "X_filtered = df_tr.ix[:, np.setdiff1d(list(df_tr.columns), ['isFraud', 'log_oldbalanceDest', 'oldbalanceDest'])].values"
   ]
  },
  {
   "cell_type": "markdown",
   "metadata": {},
   "source": [
    "#### Random forest"
   ]
  },
  {
   "cell_type": "code",
   "execution_count": 58,
   "metadata": {
    "collapsed": false
   },
   "outputs": [
    {
     "name": "stdout",
     "output_type": "stream",
     "text": [
      "0.993150684932\n",
      "0.985540334855\n",
      "0.984779299848\n",
      "0.984779299848\n",
      "0.987823439878\n",
      "Mean accuracy: 0.987214611872\n",
      "F1 score: 0.987277852114\n"
     ]
    }
   ],
   "source": [
    "from sklearn.ensemble import RandomForestClassifier\n",
    "from sklearn.model_selection import KFold\n",
    "from sklearn.metrics import accuracy_score\n",
    "from sklearn.metrics import f1_score\n",
    "\n",
    "kf = KFold(5, random_state=seed, shuffle=True)\n",
    "\n",
    "mean_accuracy = []\n",
    "mean_f1 = []\n",
    "\n",
    "for fold in kf.split(X_filtered):\n",
    "    model = RandomForestClassifier(random_state=seed)\n",
    "    model.fit(X_filtered[fold[0]], y[fold[0]])\n",
    "    print(accuracy_score(y[fold[1]], model.predict(X_filtered[fold[1]])))\n",
    "    mean_accuracy.append(accuracy_score(y[fold[1]], model.predict(X_filtered[fold[1]])))\n",
    "    mean_f1.append(f1_score(y[fold[1]], model.predict(X_filtered[fold[1]])))\n",
    "print('Mean accuracy: '+str(np.mean(mean_accuracy)))\n",
    "print('F1 score: '+str(np.mean(mean_f1)))"
   ]
  },
  {
   "cell_type": "markdown",
   "metadata": {},
   "source": [
    "#### Xgboost"
   ]
  },
  {
   "cell_type": "code",
   "execution_count": 59,
   "metadata": {
    "collapsed": false
   },
   "outputs": [
    {
     "name": "stdout",
     "output_type": "stream",
     "text": [
      "0.975646879756\n",
      "0.974124809741\n",
      "0.974124809741\n",
      "0.978691019787\n",
      "0.981735159817\n",
      "Mean accuracy: 0.976864535769\n",
      "F1 score: 0.977282789558\n"
     ]
    }
   ],
   "source": [
    "from xgboost import XGBClassifier\n",
    "from sklearn.model_selection import KFold\n",
    "from sklearn.metrics import accuracy_score\n",
    "from sklearn.metrics import f1_score\n",
    "\n",
    "kf = KFold(5, random_state=seed, shuffle=True)\n",
    "\n",
    "mean_accuracy = []\n",
    "mean_f1 = []\n",
    "\n",
    "for fold in kf.split(X_filtered):\n",
    "    model = XGBClassifier(seed = seed)\n",
    "    model.fit(X_filtered[fold[0]], y[fold[0]])\n",
    "    print(accuracy_score(y[fold[1]], model.predict(X_filtered[fold[1]])))\n",
    "    mean_accuracy.append(accuracy_score(y[fold[1]], model.predict(X_filtered[fold[1]])))\n",
    "    mean_f1.append(f1_score(y[fold[1]], model.predict(X_filtered[fold[1]])))    \n",
    "print('Mean accuracy: '+str(np.mean(mean_accuracy))) \n",
    "print('F1 score: '+str(np.mean(mean_f1)))"
   ]
  },
  {
   "cell_type": "markdown",
   "metadata": {},
   "source": [
    "## Grid search to tune the model"
   ]
  },
  {
   "cell_type": "markdown",
   "metadata": {},
   "source": [
    "#### Random forest"
   ]
  },
  {
   "cell_type": "code",
   "execution_count": 60,
   "metadata": {
    "collapsed": false
   },
   "outputs": [
    {
     "name": "stdout",
     "output_type": "stream",
     "text": [
      "386.8364956378937\n",
      "done\n"
     ]
    }
   ],
   "source": [
    "import time\n",
    "start_time = time.time()\n",
    "\n",
    "from sklearn.model_selection import GridSearchCV\n",
    "param_grid = {'n_estimators': [200, 300, 500], 'criterion': ['gini', 'entropy'], 'max_features': ['auto', 'sqrt', 'log2'],\n",
    "             'max_depth': [5, 10, 15, None]}\n",
    "rf_model = RandomForestClassifier(n_jobs=-1, random_state=seed)\n",
    "rf_grid = GridSearchCV(rf_model, param_grid, cv=5, n_jobs=-1, scoring='f1')\n",
    "rf_grid.fit(X_filtered, y)\n",
    "print(time.time() - start_time)\n",
    "print('done')"
   ]
  },
  {
   "cell_type": "code",
   "execution_count": 61,
   "metadata": {
    "collapsed": false
   },
   "outputs": [
    {
     "name": "stdout",
     "output_type": "stream",
     "text": [
      "RandomForestClassifier(bootstrap=True, class_weight=None, criterion='gini',\n",
      "            max_depth=None, max_features='auto', max_leaf_nodes=None,\n",
      "            min_impurity_split=1e-07, min_samples_leaf=1,\n",
      "            min_samples_split=2, min_weight_fraction_leaf=0.0,\n",
      "            n_estimators=200, n_jobs=-1, oob_score=False, random_state=100,\n",
      "            verbose=0, warm_start=False)\n"
     ]
    }
   ],
   "source": [
    "print(rf_grid.best_estimator_)"
   ]
  },
  {
   "cell_type": "code",
   "execution_count": 62,
   "metadata": {
    "collapsed": false
   },
   "outputs": [
    {
     "name": "stdout",
     "output_type": "stream",
     "text": [
      "0.987835954057\n"
     ]
    }
   ],
   "source": [
    "print(rf_grid.best_score_)"
   ]
  },
  {
   "cell_type": "code",
   "execution_count": 63,
   "metadata": {
    "collapsed": false
   },
   "outputs": [],
   "source": [
    "rf_model = rf_grid.best_estimator_"
   ]
  },
  {
   "cell_type": "markdown",
   "metadata": {},
   "source": [
    "#### Xgboost (on original x)"
   ]
  },
  {
   "cell_type": "code",
   "execution_count": 141,
   "metadata": {
    "collapsed": false
   },
   "outputs": [
    {
     "name": "stdout",
     "output_type": "stream",
     "text": [
      "75.61923503875732\n",
      "done\n"
     ]
    }
   ],
   "source": [
    "import time\n",
    "start_time = time.time()\n",
    "\n",
    "from sklearn.model_selection import GridSearchCV\n",
    "param_grid = {'n_estimators': [80, 100, 120, 150], 'learning_rate': [0.05, 0.08, 0.1, 0.12, 0.15], 'max_depth': [2, 3, 4]}\n",
    "xgb_model = XGBClassifier(seed=seed)\n",
    "xgb_grid = GridSearchCV(xgb_model, param_grid, cv=5, n_jobs=-1, scoring='f1')\n",
    "xgb_grid.fit(X, y)\n",
    "print(time.time() - start_time)\n",
    "print('done')"
   ]
  },
  {
   "cell_type": "code",
   "execution_count": 142,
   "metadata": {
    "collapsed": false
   },
   "outputs": [
    {
     "name": "stdout",
     "output_type": "stream",
     "text": [
      "XGBClassifier(base_score=0.5, colsample_bylevel=1, colsample_bytree=1,\n",
      "       gamma=0, learning_rate=0.15, max_delta_step=0, max_depth=4,\n",
      "       min_child_weight=1, missing=None, n_estimators=150, nthread=-1,\n",
      "       objective='binary:logistic', reg_alpha=0, reg_lambda=1,\n",
      "       scale_pos_weight=1, seed=100, silent=True, subsample=1)\n"
     ]
    }
   ],
   "source": [
    "print(xgb_grid.best_estimator_)"
   ]
  },
  {
   "cell_type": "code",
   "execution_count": 143,
   "metadata": {
    "collapsed": false
   },
   "outputs": [
    {
     "name": "stdout",
     "output_type": "stream",
     "text": [
      "0.9885352212\n"
     ]
    }
   ],
   "source": [
    "print(xgb_grid.best_score_)"
   ]
  },
  {
   "cell_type": "code",
   "execution_count": 144,
   "metadata": {
    "collapsed": true
   },
   "outputs": [],
   "source": [
    "xgb_model = xgb_grid.best_estimator_"
   ]
  },
  {
   "cell_type": "markdown",
   "metadata": {},
   "source": [
    "##### base model"
   ]
  },
  {
   "cell_type": "code",
   "execution_count": 220,
   "metadata": {
    "collapsed": false
   },
   "outputs": [
    {
     "data": {
      "text/plain": [
       "XGBClassifier(base_score=0.5, colsample_bylevel=1, colsample_bytree=1,\n",
       "       gamma=0, learning_rate=0.1, max_delta_step=0, max_depth=3,\n",
       "       min_child_weight=1, missing=None, n_estimators=100, nthread=-1,\n",
       "       objective='binary:logistic', reg_alpha=0, reg_lambda=1,\n",
       "       scale_pos_weight=1, seed=0, silent=True, subsample=1)"
      ]
     },
     "execution_count": 220,
     "metadata": {},
     "output_type": "execute_result"
    }
   ],
   "source": [
    "xgb_model_base = XGBClassifier()\n",
    "xgb_model_base.fit(X, y)"
   ]
  },
  {
   "cell_type": "markdown",
   "metadata": {},
   "source": [
    "#### Xgboost (on filtered X)"
   ]
  },
  {
   "cell_type": "code",
   "execution_count": 202,
   "metadata": {
    "collapsed": false
   },
   "outputs": [
    {
     "name": "stdout",
     "output_type": "stream",
     "text": [
      "69.78966879844666\n",
      "done\n"
     ]
    }
   ],
   "source": [
    "import time\n",
    "start_time = time.time()\n",
    "\n",
    "from sklearn.model_selection import GridSearchCV\n",
    "param_grid = {'n_estimators': [80, 100, 120, 150], 'learning_rate': [0.05, 0.08, 0.1, 0.12, 0.15], 'max_depth': [2, 3, 4]}\n",
    "xgb_model_filtered = XGBClassifier(seed=seed)\n",
    "xgb_grid_filtered = GridSearchCV(xgb_model_filtered, param_grid, cv=5, n_jobs=-1, scoring='f1')\n",
    "xgb_grid_filtered.fit(X_filtered, y)\n",
    "print(time.time() - start_time)\n",
    "print('done')"
   ]
  },
  {
   "cell_type": "code",
   "execution_count": 203,
   "metadata": {
    "collapsed": false
   },
   "outputs": [
    {
     "name": "stdout",
     "output_type": "stream",
     "text": [
      "XGBClassifier(base_score=0.5, colsample_bylevel=1, colsample_bytree=1,\n",
      "       gamma=0, learning_rate=0.15, max_delta_step=0, max_depth=4,\n",
      "       min_child_weight=1, missing=None, n_estimators=150, nthread=-1,\n",
      "       objective='binary:logistic', reg_alpha=0, reg_lambda=1,\n",
      "       scale_pos_weight=1, seed=100, silent=True, subsample=1)\n"
     ]
    }
   ],
   "source": [
    "print(xgb_grid_filtered.best_estimator_)"
   ]
  },
  {
   "cell_type": "code",
   "execution_count": 147,
   "metadata": {
    "collapsed": false
   },
   "outputs": [
    {
     "name": "stdout",
     "output_type": "stream",
     "text": [
      "0.988454252104\n"
     ]
    }
   ],
   "source": [
    "print(xgb_grid_filtered.best_score_)"
   ]
  },
  {
   "cell_type": "code",
   "execution_count": 215,
   "metadata": {
    "collapsed": false
   },
   "outputs": [],
   "source": [
    "xgb_model_filtered = xgb_grid_filtered.best_estimator_\n",
    "#xgb_model_filtered.fit(X_filtered, y)"
   ]
  },
  {
   "cell_type": "markdown",
   "metadata": {},
   "source": [
    "##### base model"
   ]
  },
  {
   "cell_type": "code",
   "execution_count": 221,
   "metadata": {
    "collapsed": false
   },
   "outputs": [
    {
     "data": {
      "text/plain": [
       "XGBClassifier(base_score=0.5, colsample_bylevel=1, colsample_bytree=1,\n",
       "       gamma=0, learning_rate=0.1, max_delta_step=0, max_depth=3,\n",
       "       min_child_weight=1, missing=None, n_estimators=100, nthread=-1,\n",
       "       objective='binary:logistic', reg_alpha=0, reg_lambda=1,\n",
       "       scale_pos_weight=1, seed=0, silent=True, subsample=1)"
      ]
     },
     "execution_count": 221,
     "metadata": {},
     "output_type": "execute_result"
    }
   ],
   "source": [
    "xgb_model_filtered_base = XGBClassifier()\n",
    "xgb_model_filtered_base.fit(X_filtered, y)"
   ]
  },
  {
   "cell_type": "markdown",
   "metadata": {},
   "source": [
    "## Test the model on the test dataset"
   ]
  },
  {
   "cell_type": "markdown",
   "metadata": {},
   "source": [
    "#### Process the data"
   ]
  },
  {
   "cell_type": "code",
   "execution_count": 149,
   "metadata": {
    "collapsed": false
   },
   "outputs": [
    {
     "name": "stdout",
     "output_type": "stream",
     "text": [
      "(6349480, 16)\n"
     ]
    }
   ],
   "source": [
    "df_test = df_new.ix[np.setdiff1d(np.arange(len(df_new)), train_ind), :]\n",
    "print(df_test.shape)\n",
    "df_test.index = range(len(df_test))"
   ]
  },
  {
   "cell_type": "code",
   "execution_count": 150,
   "metadata": {
    "collapsed": false
   },
   "outputs": [],
   "source": [
    "X_test = df_test.ix[:, range(len(df_test.columns))[:-1]].values\n",
    "X_test_filtered = df_test.ix[:, np.setdiff1d(list(df_test.columns), ['isFraud', 'log_oldbalanceDest', 'oldbalanceDest'])].values\n",
    "y_test = df_test['isFraud'].values"
   ]
  },
  {
   "cell_type": "markdown",
   "metadata": {},
   "source": [
    "### Test the model"
   ]
  },
  {
   "cell_type": "markdown",
   "metadata": {},
   "source": [
    "#### Random forest"
   ]
  },
  {
   "cell_type": "markdown",
   "metadata": {
    "collapsed": true
   },
   "source": [
    "Since the outcome is not better than xgboost and it consumes too much memory, I would like to skip this."
   ]
  },
  {
   "cell_type": "markdown",
   "metadata": {},
   "source": [
    "#### Xgboost (on original X)"
   ]
  },
  {
   "cell_type": "code",
   "execution_count": 222,
   "metadata": {
    "collapsed": false
   },
   "outputs": [],
   "source": [
    "X_pred_xgb_base = xgb_model_base.predict_proba(X_test)\n",
    "X_pred_xgb = xgb_model.predict_proba(X_test)"
   ]
  },
  {
   "cell_type": "code",
   "execution_count": 223,
   "metadata": {
    "collapsed": true
   },
   "outputs": [],
   "source": [
    "model_name = ['Base', 'Grid search']"
   ]
  },
  {
   "cell_type": "code",
   "execution_count": 224,
   "metadata": {
    "collapsed": false
   },
   "outputs": [
    {
     "name": "stdout",
     "output_type": "stream",
     "text": [
      "Base\n",
      "             precision    recall  f1-score   support\n",
      "\n",
      "          0       1.00      0.96      0.98   6347837\n",
      "          1       0.01      0.99      0.01      1643\n",
      "\n",
      "avg / total       1.00      0.96      0.98   6349480\n",
      "\n",
      "col_0    False   True \n",
      "row_0                 \n",
      "0      6106688  241149\n",
      "1           13    1630\n",
      "\n",
      "\n",
      "\n",
      "Grid search\n",
      "             precision    recall  f1-score   support\n",
      "\n",
      "          0       1.00      0.98      0.99   6347837\n",
      "          1       0.01      0.99      0.03      1643\n",
      "\n",
      "avg / total       1.00      0.98      0.99   6349480\n",
      "\n",
      "col_0    False   True \n",
      "row_0                 \n",
      "0      6234727  113110\n",
      "1           10    1633\n",
      "\n",
      "\n",
      "\n"
     ]
    }
   ],
   "source": [
    "from sklearn.metrics import classification_report\n",
    "prediction = np.c_[X_pred_xgb_base[:, 1], X_pred_xgb[:, 1]]\n",
    "\n",
    "threshold = 0.5\n",
    "\n",
    "for ind, name in enumerate(model_name):\n",
    "    print(name)\n",
    "    print(classification_report(y_test, prediction[:, ind]>threshold))\n",
    "    print(pd.crosstab(y_test, prediction[:, ind]>threshold))\n",
    "    print('\\n\\n')"
   ]
  },
  {
   "cell_type": "code",
   "execution_count": 225,
   "metadata": {
    "collapsed": false
   },
   "outputs": [
    {
     "name": "stdout",
     "output_type": "stream",
     "text": [
      "Base\n",
      "             precision    recall  f1-score   support\n",
      "\n",
      "          0       1.00      1.00      1.00   6347837\n",
      "          1       0.17      0.77      0.28      1643\n",
      "\n",
      "avg / total       1.00      1.00      1.00   6349480\n",
      "\n",
      "col_0    False  True \n",
      "row_0                \n",
      "0      6341619   6218\n",
      "1          371   1272\n",
      "\n",
      "\n",
      "\n",
      "Grid search\n",
      "             precision    recall  f1-score   support\n",
      "\n",
      "          0       1.00      0.99      1.00   6347837\n",
      "          1       0.04      0.93      0.08      1643\n",
      "\n",
      "avg / total       1.00      0.99      1.00   6349480\n",
      "\n",
      "col_0    False  True \n",
      "row_0                \n",
      "0      6313855  33982\n",
      "1          109   1534\n",
      "\n",
      "\n",
      "\n"
     ]
    }
   ],
   "source": [
    "threshold = 0.9\n",
    "\n",
    "for ind, name in enumerate(model_name):\n",
    "    print(name)\n",
    "    print(classification_report(y_test, prediction[:, ind]>threshold))\n",
    "    print(pd.crosstab(y_test, prediction[:, ind]>threshold))\n",
    "    print('\\n\\n')"
   ]
  },
  {
   "cell_type": "code",
   "execution_count": 226,
   "metadata": {
    "collapsed": false
   },
   "outputs": [
    {
     "name": "stdout",
     "output_type": "stream",
     "text": [
      "Base\n",
      "             precision    recall  f1-score   support\n",
      "\n",
      "          0       1.00      1.00      1.00   6347837\n",
      "          1       0.96      0.67      0.79      1643\n",
      "\n",
      "avg / total       1.00      1.00      1.00   6349480\n",
      "\n",
      "col_0    False  True \n",
      "row_0                \n",
      "0      6347787     50\n",
      "1          546   1097\n",
      "\n",
      "\n",
      "\n",
      "Grid search\n",
      "             precision    recall  f1-score   support\n",
      "\n",
      "          0       1.00      1.00      1.00   6347837\n",
      "          1       0.53      0.74      0.62      1643\n",
      "\n",
      "avg / total       1.00      1.00      1.00   6349480\n",
      "\n",
      "col_0    False  True \n",
      "row_0                \n",
      "0      6346749   1088\n",
      "1          420   1223\n",
      "\n",
      "\n",
      "\n"
     ]
    }
   ],
   "source": [
    "threshold = 0.99\n",
    "\n",
    "for ind, name in enumerate(model_name):\n",
    "    print(name)\n",
    "    print(classification_report(y_test, prediction[:, ind]>threshold))\n",
    "    print(pd.crosstab(y_test, prediction[:, ind]>threshold))\n",
    "    print('\\n\\n')"
   ]
  },
  {
   "cell_type": "markdown",
   "metadata": {},
   "source": [
    "#### Xgboost (on filtered X)"
   ]
  },
  {
   "cell_type": "code",
   "execution_count": 227,
   "metadata": {
    "collapsed": false
   },
   "outputs": [],
   "source": [
    "X_pred_xgb_filtered_base = xgb_model_filtered_base.predict_proba(X_test_filtered)\n",
    "X_pred_xgb_filtered = xgb_model_filtered.predict_proba(X_test_filtered)"
   ]
  },
  {
   "cell_type": "code",
   "execution_count": 228,
   "metadata": {
    "collapsed": false
   },
   "outputs": [
    {
     "name": "stdout",
     "output_type": "stream",
     "text": [
      "Base\n",
      "             precision    recall  f1-score   support\n",
      "\n",
      "          0       1.00      0.96      0.98   6347837\n",
      "          1       0.01      0.99      0.01      1643\n",
      "\n",
      "avg / total       1.00      0.96      0.98   6349480\n",
      "\n",
      "col_0    False   True \n",
      "row_0                 \n",
      "0      6112811  235026\n",
      "1           13    1630\n",
      "\n",
      "\n",
      "\n",
      "Grid search\n",
      "             precision    recall  f1-score   support\n",
      "\n",
      "          0       1.00      0.98      0.99   6347837\n",
      "          1       0.01      0.99      0.03      1643\n",
      "\n",
      "avg / total       1.00      0.98      0.99   6349480\n",
      "\n",
      "col_0    False   True \n",
      "row_0                 \n",
      "0      6237997  109840\n",
      "1           11    1632\n",
      "\n",
      "\n",
      "\n"
     ]
    }
   ],
   "source": [
    "from sklearn.metrics import classification_report\n",
    "prediction = np.c_[X_pred_xgb_filtered_base[:, 1], X_pred_xgb_filtered[:, 1]]\n",
    "\n",
    "threshold = 0.5\n",
    "\n",
    "for ind, name in enumerate(model_name):\n",
    "    print(name)\n",
    "    print(classification_report(y_test, prediction[:, ind]>threshold))\n",
    "    print(pd.crosstab(y_test, prediction[:, ind]>threshold))\n",
    "    print('\\n\\n')"
   ]
  },
  {
   "cell_type": "code",
   "execution_count": 229,
   "metadata": {
    "collapsed": false
   },
   "outputs": [
    {
     "name": "stdout",
     "output_type": "stream",
     "text": [
      "Base\n",
      "             precision    recall  f1-score   support\n",
      "\n",
      "          0       1.00      1.00      1.00   6347837\n",
      "          1       0.17      0.77      0.28      1643\n",
      "\n",
      "avg / total       1.00      1.00      1.00   6349480\n",
      "\n",
      "col_0    False  True \n",
      "row_0                \n",
      "0      6341678   6159\n",
      "1          370   1273\n",
      "\n",
      "\n",
      "\n",
      "Grid search\n",
      "             precision    recall  f1-score   support\n",
      "\n",
      "          0       1.00      0.99      1.00   6347837\n",
      "          1       0.04      0.96      0.08      1643\n",
      "\n",
      "avg / total       1.00      0.99      1.00   6349480\n",
      "\n",
      "col_0    False  True \n",
      "row_0                \n",
      "0      6313868  33969\n",
      "1           69   1574\n",
      "\n",
      "\n",
      "\n"
     ]
    }
   ],
   "source": [
    "threshold = 0.9\n",
    "\n",
    "for ind, name in enumerate(model_name):\n",
    "    print(name)\n",
    "    print(classification_report(y_test, prediction[:, ind]>threshold))\n",
    "    print(pd.crosstab(y_test, prediction[:, ind]>threshold))\n",
    "    print('\\n\\n')"
   ]
  },
  {
   "cell_type": "code",
   "execution_count": 230,
   "metadata": {
    "collapsed": false
   },
   "outputs": [
    {
     "name": "stdout",
     "output_type": "stream",
     "text": [
      "Base\n",
      "             precision    recall  f1-score   support\n",
      "\n",
      "          0       1.00      1.00      1.00   6347837\n",
      "          1       0.95      0.68      0.79      1643\n",
      "\n",
      "avg / total       1.00      1.00      1.00   6349480\n",
      "\n",
      "col_0    False  True \n",
      "row_0                \n",
      "0      6347773     64\n",
      "1          526   1117\n",
      "\n",
      "\n",
      "\n",
      "Grid search\n",
      "             precision    recall  f1-score   support\n",
      "\n",
      "          0       1.00      1.00      1.00   6347837\n",
      "          1       0.61      0.74      0.67      1643\n",
      "\n",
      "avg / total       1.00      1.00      1.00   6349480\n",
      "\n",
      "col_0    False  True \n",
      "row_0                \n",
      "0      6347059    778\n",
      "1          432   1211\n",
      "\n",
      "\n",
      "\n"
     ]
    }
   ],
   "source": [
    "threshold = 0.99\n",
    "\n",
    "for ind, name in enumerate(model_name):\n",
    "    print(name)\n",
    "    print(classification_report(y_test, prediction[:, ind]>threshold))\n",
    "    print(pd.crosstab(y_test, prediction[:, ind]>threshold))\n",
    "    print('\\n\\n')"
   ]
  },
  {
   "cell_type": "markdown",
   "metadata": {},
   "source": [
    "From the results above, we can see that: \n",
    "* The models based on filtered features perform better\n",
    "* The base model (without grid search) is better at precision and f1 score; however the grid search model is better at recall especially for lower threshold"
   ]
  },
  {
   "cell_type": "code",
   "execution_count": 231,
   "metadata": {
    "collapsed": false
   },
   "outputs": [
    {
     "name": "stdout",
     "output_type": "stream",
     "text": [
      "(0.79454142, 0.0)\n",
      "SpearmanrResult(correlation=0.79388761785005024, pvalue=0.0)\n"
     ]
    }
   ],
   "source": [
    "### Correlation between the prediction from base model and grid search model\n",
    "from scipy.stats import pearsonr\n",
    "pred_comp = [X_pred_xgb_filtered_base[:, 1], X_pred_xgb_filtered[:, 1]]\n",
    "print(pearsonr(*pred_comp))\n",
    "\n",
    "from scipy.stats import spearmanr\n",
    "pred_comp = [X_pred_xgb_filtered_base[:, 1], X_pred_xgb_filtered[:, 1]]\n",
    "print(spearmanr(*pred_comp))"
   ]
  },
  {
   "cell_type": "markdown",
   "metadata": {},
   "source": [
    "#### Average the predictions from base model and grid search model "
   ]
  },
  {
   "cell_type": "code",
   "execution_count": 232,
   "metadata": {
    "collapsed": true
   },
   "outputs": [],
   "source": [
    "pred_avg = np.mean(prediction, axis=1)"
   ]
  },
  {
   "cell_type": "code",
   "execution_count": 233,
   "metadata": {
    "collapsed": false
   },
   "outputs": [
    {
     "name": "stdout",
     "output_type": "stream",
     "text": [
      "             precision    recall  f1-score   support\n",
      "\n",
      "          0       1.00      0.98      0.99   6347837\n",
      "          1       0.01      0.99      0.02      1643\n",
      "\n",
      "avg / total       1.00      0.98      0.99   6349480\n",
      "\n",
      "col_0    False   True \n",
      "row_0                 \n",
      "0      6210096  137741\n",
      "1           11    1632\n"
     ]
    }
   ],
   "source": [
    "threshold = 0.5\n",
    "print(classification_report(y_test, pred_avg>threshold))\n",
    "print(pd.crosstab(y_test, pred_avg>threshold))"
   ]
  },
  {
   "cell_type": "code",
   "execution_count": 234,
   "metadata": {
    "collapsed": false
   },
   "outputs": [
    {
     "name": "stdout",
     "output_type": "stream",
     "text": [
      "             precision    recall  f1-score   support\n",
      "\n",
      "          0       1.00      1.00      1.00   6347837\n",
      "          1       0.11      0.84      0.19      1643\n",
      "\n",
      "avg / total       1.00      1.00      1.00   6349480\n",
      "\n",
      "col_0    False  True \n",
      "row_0                \n",
      "0      6336395  11442\n",
      "1          258   1385\n"
     ]
    }
   ],
   "source": [
    "threshold = 0.9\n",
    "print(classification_report(y_test, pred_avg>threshold))\n",
    "print(pd.crosstab(y_test, pred_avg>threshold))"
   ]
  },
  {
   "cell_type": "code",
   "execution_count": 235,
   "metadata": {
    "collapsed": false
   },
   "outputs": [
    {
     "name": "stdout",
     "output_type": "stream",
     "text": [
      "             precision    recall  f1-score   support\n",
      "\n",
      "          0       1.00      1.00      1.00   6347837\n",
      "          1       0.75      0.72      0.74      1643\n",
      "\n",
      "avg / total       1.00      1.00      1.00   6349480\n",
      "\n",
      "col_0    False  True \n",
      "row_0                \n",
      "0      6347450    387\n",
      "1          460   1183\n"
     ]
    }
   ],
   "source": [
    "threshold = 0.99\n",
    "print(classification_report(y_test, pred_avg>threshold))\n",
    "print(pd.crosstab(y_test, pred_avg>threshold))"
   ]
  },
  {
   "cell_type": "markdown",
   "metadata": {},
   "source": [
    "## Display the performance of models using ROC-AUC curve"
   ]
  },
  {
   "cell_type": "code",
   "execution_count": 236,
   "metadata": {
    "collapsed": true
   },
   "outputs": [],
   "source": [
    "### Define the plotting function\n",
    "def roc_auc_graph(prediction, y, model_name = ''):\n",
    "    from sklearn.metrics import roc_auc_score, roc_curve\n",
    "    fpr, tpr, th = roc_curve(y, prediction)\n",
    "    \n",
    "    score = roc_auc_score(y, prediction, 'weighted')\n",
    "    \n",
    "    plt.figure(figsize=[6, 6])\n",
    "    plt.plot(fpr, tpr, color='darkorange',\n",
    "             lw=2, label='ROC curve (area = %0.5f)' % score)\n",
    "    plt.plot([0, 1], [0, 1], color='navy', lw=2, linestyle='--')\n",
    "    plt.xlim([0.0, 1.0])\n",
    "    plt.ylim([0.0, 1.05])\n",
    "    plt.xlabel('False Positive Rate')\n",
    "    plt.ylabel('True Positive Rate')\n",
    "    plt.title('Receiver Operating Characteristic '+model_name)\n",
    "    plt.legend(loc=\"lower right\")\n",
    "    plt.tight_layout(True)\n",
    "    plt.show()"
   ]
  },
  {
   "cell_type": "code",
   "execution_count": 237,
   "metadata": {
    "collapsed": false
   },
   "outputs": [
    {
     "data": {
      "image/png": "[encoded data removed]",
      "text/plain": [
       "<matplotlib.figure.Figure at 0x227a16e3e80>"
      ]
     },
     "metadata": {},
     "output_type": "display_data"
    }
   ],
   "source": [
    "### for base model\n",
    "roc_auc_graph(prediction[:, 0], y_test, 'Base Filtered Model')"
   ]
  },
  {
   "cell_type": "code",
   "execution_count": 238,
   "metadata": {
    "collapsed": false
   },
   "outputs": [
    {
     "data": {
      "image/png": "[encoded data removed]",
      "text/plain": [
       "<matplotlib.figure.Figure at 0x227a16e34a8>"
      ]
     },
     "metadata": {},
     "output_type": "display_data"
    }
   ],
   "source": [
    "### for grid search model\n",
    "roc_auc_graph(prediction[:, 1], y_test, 'Grid Search Filtered Model')"
   ]
  },
  {
   "cell_type": "code",
   "execution_count": 239,
   "metadata": {
    "collapsed": false
   },
   "outputs": [
    {
     "data": {
      "image/png": "[encoded data removed]",
      "text/plain": [
       "<matplotlib.figure.Figure at 0x2279a8ddd68>"
      ]
     },
     "metadata": {},
     "output_type": "display_data"
    }
   ],
   "source": [
    "### for average model\n",
    "roc_auc_graph(pred_avg, y_test, 'Average Filtered Model')"
   ]
  },
  {
   "cell_type": "markdown",
   "metadata": {},
   "source": [
    "The results look not bad!"
   ]
  },
  {
   "cell_type": "markdown",
   "metadata": {},
   "source": [
    "## Building multiple models using different training dataset"
   ]
  },
  {
   "cell_type": "markdown",
   "metadata": {},
   "source": [
    "#### Get the indices of examples"
   ]
  },
  {
   "cell_type": "code",
   "execution_count": 73,
   "metadata": {
    "collapsed": true
   },
   "outputs": [],
   "source": [
    "num_model = 500"
   ]
  },
  {
   "cell_type": "code",
   "execution_count": 74,
   "metadata": {
    "collapsed": false
   },
   "outputs": [
    {
     "name": "stdout",
     "output_type": "stream",
     "text": [
      "Numer of training set for fraud target: 6570\n"
     ]
    }
   ],
   "source": [
    "print('Numer of training set for fraud target: '+str(len(fraud_sample_ind_list)))"
   ]
  },
  {
   "cell_type": "code",
   "execution_count": 75,
   "metadata": {
    "collapsed": false
   },
   "outputs": [
    {
     "name": "stdout",
     "output_type": "stream",
     "text": [
      "Number of non-fraud examples used in training set to build 500 models: 3285000\n"
     ]
    }
   ],
   "source": [
    "print('Number of non-fraud examples used in training set to build '+str(num_model)+ ' models: '+str(len(fraud_sample_ind_list)*num_model))"
   ]
  },
  {
   "cell_type": "code",
   "execution_count": 76,
   "metadata": {
    "collapsed": false
   },
   "outputs": [],
   "source": [
    "np.random.seed(seed)\n",
    "non_fraud_training_ind = np.random.choice(nonfraud_ind_list, len(fraud_sample_ind_list)*num_model, replace=False)"
   ]
  },
  {
   "cell_type": "code",
   "execution_count": 77,
   "metadata": {
    "collapsed": false
   },
   "outputs": [
    {
     "data": {
      "text/plain": [
       "3285000"
      ]
     },
     "execution_count": 77,
     "metadata": {},
     "output_type": "execute_result"
    }
   ],
   "source": [
    "len(non_fraud_training_ind)"
   ]
  },
  {
   "cell_type": "code",
   "execution_count": 78,
   "metadata": {
    "collapsed": true
   },
   "outputs": [],
   "source": [
    "index_set = np.array(non_fraud_training_ind).reshape([num_model, -1])"
   ]
  },
  {
   "cell_type": "code",
   "execution_count": 79,
   "metadata": {
    "collapsed": false
   },
   "outputs": [],
   "source": [
    "index_set_temp = []\n",
    "\n",
    "for i in range(index_set.shape[0]):\n",
    "    temp = np.hstack([index_set[i], fraud_sample_ind_list])\n",
    "    np.random.shuffle(temp)\n",
    "    index_set_temp.append(temp)"
   ]
  },
  {
   "cell_type": "code",
   "execution_count": 80,
   "metadata": {
    "collapsed": true
   },
   "outputs": [],
   "source": [
    "index_set = index_set_temp\n",
    "del index_set_temp"
   ]
  },
  {
   "cell_type": "code",
   "execution_count": 81,
   "metadata": {
    "collapsed": false
   },
   "outputs": [
    {
     "data": {
      "text/plain": [
       "13140"
      ]
     },
     "execution_count": 81,
     "metadata": {},
     "output_type": "execute_result"
    }
   ],
   "source": [
    "len(index_set[1])"
   ]
  },
  {
   "cell_type": "markdown",
   "metadata": {},
   "source": [
    "#### Building models "
   ]
  },
  {
   "cell_type": "code",
   "execution_count": 82,
   "metadata": {
    "collapsed": false
   },
   "outputs": [
    {
     "data": {
      "text/plain": [
       "Index(['type_CASH_IN', 'type_CASH_OUT', 'type_DEBIT', 'type_PAYMENT',\n",
       "       'type_TRANSFER', 'nameDist_C', 'nameDist_M', 'amount', 'oldbalanceOrg',\n",
       "       'oldbalanceDest', 'newbalanceDest', 'log_amount', 'log_oldbalanceOrg',\n",
       "       'log_oldbalanceDest', 'log_newbalanceDest', 'isFraud'],\n",
       "      dtype='object')"
      ]
     },
     "execution_count": 82,
     "metadata": {},
     "output_type": "execute_result"
    }
   ],
   "source": [
    "df_new .columns"
   ]
  },
  {
   "cell_type": "code",
   "execution_count": 83,
   "metadata": {
    "collapsed": true
   },
   "outputs": [],
   "source": [
    "val_index = np.setdiff1d(list(range(len(df))), np.hstack([non_fraud_training_ind, np.array(fraud_sample_ind_list)]))"
   ]
  },
  {
   "cell_type": "code",
   "execution_count": 118,
   "metadata": {
    "collapsed": false
   },
   "outputs": [
    {
     "name": "stdout",
     "output_type": "stream",
     "text": [
      "Progress: 25.0%\n",
      "Progress: 50.0%\n",
      "Progress: 75.0%\n",
      "Progress: 100.0%\n"
     ]
    }
   ],
   "source": [
    "model_set = {}\n",
    "\n",
    "from xgboost import XGBClassifier\n",
    "\n",
    "n = 0.25\n",
    "\n",
    "for i in range(num_model):\n",
    "    X = df_new.ix[index_set[i], np.setdiff1d(list(df_new.columns), ['isFraud', 'log_oldbalanceDest', 'oldbalanceDest'])].values\n",
    "    y = df_new['isFraud'][index_set[i]].values\n",
    "    \n",
    "    model_set['xgb_model_'+str(i+1)] = XGBClassifier(seed = 1000*i+1)\n",
    "    model_set['xgb_model_'+str(i+1)].fit(X, y)\n",
    "    \n",
    "    if (i+1)/num_model >= n:\n",
    "        print('Progress: '+str(n*100)+'%')\n",
    "        n += 0.25"
   ]
  },
  {
   "cell_type": "code",
   "execution_count": 119,
   "metadata": {
    "collapsed": false
   },
   "outputs": [
    {
     "data": {
      "text/plain": [
       "0    0.999465\n",
       "1    0.000535\n",
       "Name: isFraud, dtype: float64"
      ]
     },
     "execution_count": 119,
     "metadata": {},
     "output_type": "execute_result"
    }
   ],
   "source": [
    "df_new.ix[val_index, :]['isFraud'].value_counts()/len(df_new.ix[val_index, :])"
   ]
  },
  {
   "cell_type": "markdown",
   "metadata": {},
   "source": [
    "#### Get validation and test data"
   ]
  },
  {
   "cell_type": "code",
   "execution_count": 120,
   "metadata": {
    "collapsed": false
   },
   "outputs": [
    {
     "name": "stdout",
     "output_type": "stream",
     "text": [
      "(1535525, 16)\n",
      "0    1534703\n",
      "1        822\n",
      "Name: isFraud, dtype: int64\n"
     ]
    }
   ],
   "source": [
    "from sklearn.model_selection import train_test_split\n",
    "df_val, df_test = train_test_split(df_new.ix[val_index, :], train_size=0.5,\n",
    "                                   stratify=df_new.ix[val_index, :]['isFraud'], random_state=seed)\n",
    "\n",
    "print(df_val.shape)\n",
    "print(df_val['isFraud'].value_counts())\n",
    "\n",
    "df_val.index = range(len(df_val))\n",
    "df_test.index = range(len(df_test))"
   ]
  },
  {
   "cell_type": "markdown",
   "metadata": {},
   "source": [
    "#### Making prediction on validation data"
   ]
  },
  {
   "cell_type": "code",
   "execution_count": 131,
   "metadata": {
    "collapsed": true
   },
   "outputs": [],
   "source": [
    "X_val = df_val.ix[:, np.setdiff1d(list(df_val.columns), ['isFraud', 'log_oldbalanceDest', 'oldbalanceDest'])].values\n",
    "y_val = df_val['isFraud'].values"
   ]
  },
  {
   "cell_type": "code",
   "execution_count": 134,
   "metadata": {
    "collapsed": false
   },
   "outputs": [
    {
     "name": "stdout",
     "output_type": "stream",
     "text": [
      "Progress: 25.0%\n",
      "Progress: 50.0%\n",
      "Progress: 75.0%\n",
      "Progress: 100.0%\n"
     ]
    }
   ],
   "source": [
    "prediction_val = np.zeros(X_val.shape[0])\n",
    "\n",
    "n = 0.25\n",
    "\n",
    "for i in range(num_model):\n",
    "    prediction_val += model_set['xgb_model_'+str(i+1)].predict_proba(X_val)[:, 1].flatten()\n",
    "    \n",
    "    if (i+1)/num_model >= n:\n",
    "        print('Progress: '+str(n*100)+'%')\n",
    "        n += 0.25"
   ]
  },
  {
   "cell_type": "code",
   "execution_count": 140,
   "metadata": {
    "collapsed": false
   },
   "outputs": [],
   "source": [
    "prediction_val = prediction_val/num_model"
   ]
  },
  {
   "cell_type": "code",
   "execution_count": 167,
   "metadata": {
    "collapsed": true
   },
   "outputs": [],
   "source": [
    "threshold = 0.99"
   ]
  },
  {
   "cell_type": "code",
   "execution_count": 168,
   "metadata": {
    "collapsed": false
   },
   "outputs": [
    {
     "name": "stdout",
     "output_type": "stream",
     "text": [
      "             precision    recall  f1-score   support\n",
      "\n",
      "          0       1.00      1.00      1.00   1534703\n",
      "          1       0.95      0.72      0.82       822\n",
      "\n",
      "avg / total       1.00      1.00      1.00   1535525\n",
      "\n",
      "col_0    False  True \n",
      "row_0                \n",
      "0      1534672     31\n",
      "1          234    588\n"
     ]
    }
   ],
   "source": [
    "from sklearn.metrics import classification_report\n",
    "from sklearn.metrics import confusion_matrix\n",
    "\n",
    "print(classification_report(y_val, prediction_val>threshold))\n",
    "print(pd.crosstab(y_val, prediction_val.flatten()>threshold))"
   ]
  },
  {
   "cell_type": "markdown",
   "metadata": {},
   "source": [
    "#### Making prediction on test data"
   ]
  },
  {
   "cell_type": "code",
   "execution_count": 169,
   "metadata": {
    "collapsed": true
   },
   "outputs": [],
   "source": [
    "X_test = df_test.ix[:, np.setdiff1d(list(df_test.columns), ['isFraud', 'log_oldbalanceDest', 'oldbalanceDest'])].values\n",
    "y_test = df_test['isFraud'].values"
   ]
  },
  {
   "cell_type": "code",
   "execution_count": 170,
   "metadata": {
    "collapsed": false
   },
   "outputs": [
    {
     "name": "stdout",
     "output_type": "stream",
     "text": [
      "Progress: 25.0%\n",
      "Progress: 50.0%\n",
      "Progress: 75.0%\n",
      "Progress: 100.0%\n"
     ]
    }
   ],
   "source": [
    "y_pred = np.zeros(X_test.shape[0])\n",
    "\n",
    "n = 0.25\n",
    "\n",
    "for i in range(num_model):\n",
    "    y_pred += model_set['xgb_model_'+str(i+1)].predict_proba(X_test)[:, 1].flatten()\n",
    "    \n",
    "    if (i+1)/num_model >= n:\n",
    "        print('Progress: '+str(n*100)+'%')\n",
    "        n += 0.25"
   ]
  },
  {
   "cell_type": "code",
   "execution_count": 173,
   "metadata": {
    "collapsed": true
   },
   "outputs": [],
   "source": [
    "y_pred = y_pred/num_model"
   ]
  },
  {
   "cell_type": "code",
   "execution_count": 194,
   "metadata": {
    "collapsed": false
   },
   "outputs": [
    {
     "data": {
      "text/plain": [
       "1535525"
      ]
     },
     "execution_count": 194,
     "metadata": {},
     "output_type": "execute_result"
    }
   ],
   "source": [
    "len(y_pred)"
   ]
  },
  {
   "cell_type": "code",
   "execution_count": 195,
   "metadata": {
    "collapsed": false
   },
   "outputs": [
    {
     "data": {
      "text/plain": [
       "0    1534704\n",
       "1        821\n",
       "Name: isFraud, dtype: int64"
      ]
     },
     "execution_count": 195,
     "metadata": {},
     "output_type": "execute_result"
    }
   ],
   "source": [
    "df_test['isFraud'].value_counts()"
   ]
  },
  {
   "cell_type": "markdown",
   "metadata": {},
   "source": [
    "#### Evaluate the predictions "
   ]
  },
  {
   "cell_type": "code",
   "execution_count": 174,
   "metadata": {
    "collapsed": true
   },
   "outputs": [],
   "source": [
    "threshold = 0.99"
   ]
  },
  {
   "cell_type": "code",
   "execution_count": 176,
   "metadata": {
    "collapsed": false
   },
   "outputs": [
    {
     "name": "stdout",
     "output_type": "stream",
     "text": [
      "             precision    recall  f1-score   support\n",
      "\n",
      "          0       1.00      1.00      1.00   1534704\n",
      "          1       0.93      0.71      0.80       821\n",
      "\n",
      "avg / total       1.00      1.00      1.00   1535525\n",
      "\n",
      "col_0    False  True \n",
      "row_0                \n",
      "0      1534661     43\n",
      "1          242    579\n"
     ]
    }
   ],
   "source": [
    "from sklearn.metrics import classification_report\n",
    "from sklearn.metrics import confusion_matrix\n",
    "\n",
    "print(classification_report(y_test, y_pred>threshold))\n",
    "print(pd.crosstab(y_test, y_pred>threshold))"
   ]
  },
  {
   "cell_type": "code",
   "execution_count": 181,
   "metadata": {
    "collapsed": true
   },
   "outputs": [],
   "source": [
    "### Define the plotting function\n",
    "def roc_auc_graph(prediction, y, model_name = ''):\n",
    "    from sklearn.metrics import roc_auc_score, roc_curve\n",
    "    fpr, tpr, th = roc_curve(y, prediction)\n",
    "    \n",
    "    score = roc_auc_score(y, prediction, 'weighted')\n",
    "    \n",
    "    plt.figure(figsize=[6, 6])\n",
    "    plt.plot(fpr, tpr, color='darkorange',\n",
    "             lw=2, label='ROC curve (area = %0.5f)' % score)\n",
    "    plt.plot([0, 1], [0, 1], color='navy', lw=2, linestyle='--')\n",
    "    plt.xlim([0.0, 1.0])\n",
    "    plt.ylim([0.0, 1.05])\n",
    "    plt.xlabel('False Positive Rate')\n",
    "    plt.ylabel('True Positive Rate')\n",
    "    plt.title('Receiver Operating Characteristic of '+model_name)\n",
    "    plt.legend(loc=\"lower right\")\n",
    "    plt.tight_layout(True)\n",
    "    plt.show()"
   ]
  },
  {
   "cell_type": "code",
   "execution_count": 205,
   "metadata": {
    "collapsed": false
   },
   "outputs": [
    {
     "name": "stdout",
     "output_type": "stream",
     "text": [
      "\n",
      "\n",
      "Performance on prediction of 1535525 examples with 1534704 negative examples and 821 positive examples:\n",
      "\n",
      "Precision: 0.93\n",
      "Recall: 0.71\n",
      "F1-score: 0.80\n",
      "\n"
     ]
    },
    {
     "data": {
      "image/png": "[encoded data removed]",
      "text/plain": [
       "<matplotlib.figure.Figure at 0x29e4610c9b0>"
      ]
     },
     "metadata": {},
     "output_type": "display_data"
    }
   ],
   "source": [
    "sns.heatmap(pd.crosstab(y_test, y_pred>threshold), annot=True,  fmt='.8g',  linewidths=1)\n",
    "plt.xlabel('Prediction')\n",
    "plt.ylabel('Truth')\n",
    "\n",
    "print('\\n\\nPerformance on prediction of 1535525 examples with 1534704 negative examples and 821 positive examples:')\n",
    "print('\\nPrecision: 0.93\\nRecall: 0.71\\nF1-score: 0.80')\n",
    "print()"
   ]
  },
  {
   "cell_type": "code",
   "execution_count": 182,
   "metadata": {
    "collapsed": false
   },
   "outputs": [
    {
     "data": {
      "image/png": "[encoded data removed]",
      "text/plain": [
       "<matplotlib.figure.Figure at 0x29e413c6c88>"
      ]
     },
     "metadata": {},
     "output_type": "display_data"
    }
   ],
   "source": [
    "roc_auc_graph(y_pred, y_test, 'Ensemble of '+str(num_model)+' XGBoost Models')"
   ]
  },
  {
   "cell_type": "markdown",
   "metadata": {},
   "source": [
    "## Conclusions and takeaways"
   ]
  },
  {
   "cell_type": "markdown",
   "metadata": {},
   "source": [
    "1. I use feature transformation (log transformation) to get better features\n",
    "* After removing highly-correlated features, the model performs better\n",
    "* I find that using different thresholds would yield significantly different performances on precision, recall and f1-score on similar models with slightly different hyperparameters. In reality, we have to consider the goals of this task to get the optimal results\n",
    "* Slightly different settings of hyperparameters on xbgoost model (n_estimators, learning_rate and max_depth) can have quite different results, which is very worth further studying.\n",
    "* Random forest model is likely to have better result since it has similar performance with xgboost model when modeling the training set; however, the memory limitation on my computer stops me from trying that\n",
    "* Imbalanced dataset is still a hard task to handle, which requires more trying besides undersampling\n",
    "* Build the models on multiple subsets consisting of different negative samples from the training dataset combined with the same positive samples and then use the predictions made by each model to make final decision could perform better since the model is trained on more different negative datasets and it can know the patterns more. (2017/5/8)\n",
    "* Further work:\n",
    "    * More feature engineering\n",
    "    * Try more different ways to deal with imbalanced data\n",
    "    * Try ensemble model techniques like stacking"
   ]
  }
 ],
 "metadata": {
  "anaconda-cloud": {},
  "kernelspec": {
   "display_name": "Python 3",
   "language": "python",
   "name": "python3"
  },
  "language_info": {
   "codemirror_mode": {
    "name": "ipython",
    "version": 3
   },
   "file_extension": ".py",
   "mimetype": "text/x-python",
   "name": "python",
   "nbconvert_exporter": "python",
   "pygments_lexer": "ipython3",
   "version": "3.5.2"
  }
 },
 "nbformat": 4,
 "nbformat_minor": 2
}
